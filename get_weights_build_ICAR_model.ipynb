{
 "cells": [
  {
   "cell_type": "code",
   "execution_count": 337,
   "metadata": {},
   "outputs": [],
   "source": [
    "from __future__ import absolute_import, division, print_function\n",
    "\n",
    "import logging\n",
    "import os\n",
    "import pickle\n",
    "import matplotlib.pyplot as plt\n",
    "import numpy as np\n",
    "import pandas as pd\n",
    "import seaborn as sns\n",
    "from sklearn.metrics import mean_squared_error, accuracy_score\n",
    "\n",
    "import torch\n",
    "# from torch.distributions import constraints\n",
    "\n",
    "import pyro\n",
    "import pyro.distributions as dist\n",
    "from pyro.distributions import Normal, Uniform, Delta, MultivariateNormal\n",
    "from pyro.infer import EmpiricalMarginal, SVI, Trace_ELBO, JitTrace_ELBO, TracePredictive\n",
    "from pyro.contrib.autoguide import AutoMultivariateNormal\n",
    "from pyro.infer.mcmc.api import MCMC\n",
    "from pyro.infer.mcmc import NUTS\n",
    "from pyro.infer.mcmc.util import diagnostics\n",
    "# import pyro.optim as optim\n",
    "\n",
    "from sklearn.model_selection import train_test_split\n",
    "from sklearn.preprocessing import normalize\n",
    "from pyro.ops.stats import waic\n",
    "import numpy as np\n",
    "import matplotlib.mlab as mlab\n",
    "import matplotlib.pyplot as plt\n",
    "\n",
    "from copy import deepcopy\n",
    "pyro.set_rng_seed(1)\n",
    "assert pyro.__version__.startswith('0.4.1')"
   ]
  },
  {
   "cell_type": "markdown",
   "metadata": {},
   "source": [
    "## Vizualizing the heatmaps"
   ]
  },
  {
   "cell_type": "code",
   "execution_count": 228,
   "metadata": {},
   "outputs": [],
   "source": [
    "import numpy as np\n",
    "import matplotlib.pyplot as plt\n",
    "\n",
    "def heat_map(intersection_matrix):\n",
    "    fig, ax = plt.subplots()\n",
    "\n",
    "    min_val, max_val = 0, 15\n",
    "\n",
    "#     intersection_matrix = np.random.randint(0, 10, size=(max_val, max_val))\n",
    "\n",
    "    ax.matshow(intersection_matrix, cmap=plt.cm.Blues)\n",
    "\n",
    "    for i in range(15):\n",
    "        for j in range(15):\n",
    "            c = intersection_matrix[j,i]\n",
    "            ax.text(i, j, str(c), va='center', ha='center')\n",
    "    \n"
   ]
  },
  {
   "cell_type": "code",
   "execution_count": 229,
   "metadata": {},
   "outputs": [],
   "source": [
    "df = pd.read_csv(\"data/census_block_loc.csv\")"
   ]
  },
  {
   "cell_type": "code",
   "execution_count": 230,
   "metadata": {},
   "outputs": [],
   "source": [
    "df_flat_agg = data\n",
    "ct_set = set(list(df_flat_agg['CensusTract'].unique()))\n",
    "df_census_block = pd.read_csv(\"data/census_block_loc.csv\")\n",
    "df_census_block['CensusTract'] = df_census_block.apply(lambda row : int(row['BlockCode'])//10000, axis=1)\n",
    "df_census_block = df_census_block[df_census_block['CensusTract'].isin(ct_set)]\n",
    "df_census_block = df_census_block[['Latitude','Longitude','CensusTract','BlockCode']]\n",
    "df_census_block.to_csv('points.csv',index=False)"
   ]
  },
  {
   "cell_type": "code",
   "execution_count": 231,
   "metadata": {},
   "outputs": [],
   "source": [
    "lats = df_census_block['Latitude']\n",
    "longs = df_census_block['Longitude']"
   ]
  },
  {
   "cell_type": "code",
   "execution_count": 232,
   "metadata": {},
   "outputs": [],
   "source": [
    "unique_lats = sorted(list(set(lats)))"
   ]
  },
  {
   "cell_type": "code",
   "execution_count": 233,
   "metadata": {},
   "outputs": [
    {
     "data": {
      "text/plain": [
       "187"
      ]
     },
     "execution_count": 233,
     "metadata": {},
     "output_type": "execute_result"
    }
   ],
   "source": [
    "len(unique_lats)"
   ]
  },
  {
   "cell_type": "code",
   "execution_count": 234,
   "metadata": {},
   "outputs": [],
   "source": [
    "unique_longs = sorted(list(set(longs)))"
   ]
  },
  {
   "cell_type": "code",
   "execution_count": 235,
   "metadata": {},
   "outputs": [
    {
     "data": {
      "text/plain": [
       "177"
      ]
     },
     "execution_count": 235,
     "metadata": {},
     "output_type": "execute_result"
    }
   ],
   "source": [
    "len(unique_longs)"
   ]
  },
  {
   "cell_type": "code",
   "execution_count": 236,
   "metadata": {},
   "outputs": [],
   "source": [
    "matr = np.zeros((len(unique_lats), len(unique_longs)))"
   ]
  },
  {
   "cell_type": "code",
   "execution_count": 237,
   "metadata": {},
   "outputs": [],
   "source": [
    "pairs = set([(i,j) for (i,j) in zip(lats,longs)])"
   ]
  },
  {
   "cell_type": "code",
   "execution_count": 238,
   "metadata": {},
   "outputs": [
    {
     "data": {
      "text/plain": [
       "11732"
      ]
     },
     "execution_count": 238,
     "metadata": {},
     "output_type": "execute_result"
    }
   ],
   "source": [
    "len(pairs)"
   ]
  },
  {
   "cell_type": "code",
   "execution_count": 239,
   "metadata": {},
   "outputs": [],
   "source": [
    "for lat_index, lat in enumerate(unique_lats):\n",
    "    for long_index, lon in enumerate(unique_longs):\n",
    "        if (lat, lon) in pairs:\n",
    "            matr[lat_index][long_index] += 1\n"
   ]
  },
  {
   "cell_type": "code",
   "execution_count": 240,
   "metadata": {},
   "outputs": [
    {
     "data": {
      "image/png": "[encoded data removed]",
      "text/plain": [
       "<Figure size 432x288 with 1 Axes>"
      ]
     },
     "metadata": {
      "needs_background": "light"
     },
     "output_type": "display_data"
    }
   ],
   "source": [
    "heat_map(matr)"
   ]
  },
  {
   "cell_type": "code",
   "execution_count": null,
   "metadata": {},
   "outputs": [],
   "source": [
    "df_census_block"
   ]
  },
  {
   "cell_type": "code",
   "execution_count": 243,
   "metadata": {},
   "outputs": [],
   "source": [
    "data = pd.read_csv('data/all_features.csv')\n",
    "df = pd.read_csv(\"data/all_features.csv\")\n",
    "data['target'] = data.apply(lambda row : row['FELONY'] + row['MISDEMEANOR'] + row['VIOLATION'], axis=1)\n",
    "data['target'] = data['target'].astype(int)"
   ]
  },
  {
   "cell_type": "code",
   "execution_count": 304,
   "metadata": {},
   "outputs": [
    {
     "data": {
      "text/plain": [
       "0        1645261832\n",
       "1        1645262032\n",
       "2        1645263232\n",
       "3        1645263532\n",
       "4        1645263632\n",
       "            ...    \n",
       "21625    1725291933\n",
       "21626    1725291934\n",
       "21627    1725293533\n",
       "21628    1725293534\n",
       "21629    1725293932\n",
       "Name: CensusTract, Length: 21630, dtype: int32"
      ]
     },
     "execution_count": 304,
     "metadata": {},
     "output_type": "execute_result"
    }
   ],
   "source": [
    "data['CensusTract'].astype('int32')"
   ]
  },
  {
   "cell_type": "code",
   "execution_count": 305,
   "metadata": {},
   "outputs": [
    {
     "data": {
      "text/plain": [
       "755      1725286034\n",
       "756      1725286034\n",
       "757      1725286034\n",
       "758      1725286034\n",
       "759      1725286034\n",
       "            ...    \n",
       "36711    1645292532\n",
       "36712    1645292532\n",
       "36713    1645292532\n",
       "36716    1645295332\n",
       "36910    1645292532\n",
       "Name: CensusTract, Length: 11732, dtype: int32"
      ]
     },
     "execution_count": 305,
     "metadata": {},
     "output_type": "execute_result"
    }
   ],
   "source": [
    "df_census_block['CensusTract'].astype('int32')"
   ]
  },
  {
   "cell_type": "code",
   "execution_count": 306,
   "metadata": {},
   "outputs": [],
   "source": [
    "tract_lat_long = pd.DataFrame(df_census_block[['CensusTract', 'Latitude','Longitude']])"
   ]
  },
  {
   "cell_type": "code",
   "execution_count": 307,
   "metadata": {},
   "outputs": [
    {
     "data": {
      "text/html": [
       "<div>\n",
       "<style scoped>\n",
       "    .dataframe tbody tr th:only-of-type {\n",
       "        vertical-align: middle;\n",
       "    }\n",
       "\n",
       "    .dataframe tbody tr th {\n",
       "        vertical-align: top;\n",
       "    }\n",
       "\n",
       "    .dataframe thead th {\n",
       "        text-align: right;\n",
       "    }\n",
       "</style>\n",
       "<table border=\"1\" class=\"dataframe\">\n",
       "  <thead>\n",
       "    <tr style=\"text-align: right;\">\n",
       "      <th></th>\n",
       "      <th>CensusTract</th>\n",
       "      <th>Latitude</th>\n",
       "      <th>Longitude</th>\n",
       "    </tr>\n",
       "  </thead>\n",
       "  <tbody>\n",
       "    <tr>\n",
       "      <td>755</td>\n",
       "      <td>36085024402</td>\n",
       "      <td>40.493568</td>\n",
       "      <td>-74.251508</td>\n",
       "    </tr>\n",
       "    <tr>\n",
       "      <td>756</td>\n",
       "      <td>36085024402</td>\n",
       "      <td>40.493568</td>\n",
       "      <td>-74.248342</td>\n",
       "    </tr>\n",
       "    <tr>\n",
       "      <td>757</td>\n",
       "      <td>36085024402</td>\n",
       "      <td>40.493568</td>\n",
       "      <td>-74.245176</td>\n",
       "    </tr>\n",
       "    <tr>\n",
       "      <td>758</td>\n",
       "      <td>36085024402</td>\n",
       "      <td>40.493568</td>\n",
       "      <td>-74.242010</td>\n",
       "    </tr>\n",
       "    <tr>\n",
       "      <td>759</td>\n",
       "      <td>36085024402</td>\n",
       "      <td>40.493568</td>\n",
       "      <td>-74.238844</td>\n",
       "    </tr>\n",
       "    <tr>\n",
       "      <td>...</td>\n",
       "      <td>...</td>\n",
       "      <td>...</td>\n",
       "      <td>...</td>\n",
       "    </tr>\n",
       "    <tr>\n",
       "      <td>36711</td>\n",
       "      <td>36005030900</td>\n",
       "      <td>40.911910</td>\n",
       "      <td>-73.915930</td>\n",
       "    </tr>\n",
       "    <tr>\n",
       "      <td>36712</td>\n",
       "      <td>36005030900</td>\n",
       "      <td>40.911910</td>\n",
       "      <td>-73.912764</td>\n",
       "    </tr>\n",
       "    <tr>\n",
       "      <td>36713</td>\n",
       "      <td>36005030900</td>\n",
       "      <td>40.911910</td>\n",
       "      <td>-73.909598</td>\n",
       "    </tr>\n",
       "    <tr>\n",
       "      <td>36716</td>\n",
       "      <td>36005033700</td>\n",
       "      <td>40.911910</td>\n",
       "      <td>-73.900101</td>\n",
       "    </tr>\n",
       "    <tr>\n",
       "      <td>36910</td>\n",
       "      <td>36005030900</td>\n",
       "      <td>40.914171</td>\n",
       "      <td>-73.919095</td>\n",
       "    </tr>\n",
       "  </tbody>\n",
       "</table>\n",
       "<p>11732 rows × 3 columns</p>\n",
       "</div>"
      ],
      "text/plain": [
       "       CensusTract   Latitude  Longitude\n",
       "755    36085024402  40.493568 -74.251508\n",
       "756    36085024402  40.493568 -74.248342\n",
       "757    36085024402  40.493568 -74.245176\n",
       "758    36085024402  40.493568 -74.242010\n",
       "759    36085024402  40.493568 -74.238844\n",
       "...            ...        ...        ...\n",
       "36711  36005030900  40.911910 -73.915930\n",
       "36712  36005030900  40.911910 -73.912764\n",
       "36713  36005030900  40.911910 -73.909598\n",
       "36716  36005033700  40.911910 -73.900101\n",
       "36910  36005030900  40.914171 -73.919095\n",
       "\n",
       "[11732 rows x 3 columns]"
      ]
     },
     "execution_count": 307,
     "metadata": {},
     "output_type": "execute_result"
    }
   ],
   "source": [
    "tract_lat_long"
   ]
  },
  {
   "cell_type": "code",
   "execution_count": 308,
   "metadata": {},
   "outputs": [],
   "source": [
    "tract_crimes = pd.DataFrame(data[['CensusTract', 'target']])"
   ]
  },
  {
   "cell_type": "code",
   "execution_count": 309,
   "metadata": {},
   "outputs": [],
   "source": [
    "tract_crimes.groupby(['CensusTract']).sum().to_csv('temp.csv')\n",
    "tract_crimes = pd.read_csv('temp.csv')"
   ]
  },
  {
   "cell_type": "code",
   "execution_count": 316,
   "metadata": {},
   "outputs": [],
   "source": [
    "lat_long_crimes = pd.merge(tract_crimes, tract_lat_long)"
   ]
  },
  {
   "cell_type": "code",
   "execution_count": 317,
   "metadata": {},
   "outputs": [
    {
     "data": {
      "text/html": [
       "<div>\n",
       "<style scoped>\n",
       "    .dataframe tbody tr th:only-of-type {\n",
       "        vertical-align: middle;\n",
       "    }\n",
       "\n",
       "    .dataframe tbody tr th {\n",
       "        vertical-align: top;\n",
       "    }\n",
       "\n",
       "    .dataframe thead th {\n",
       "        text-align: right;\n",
       "    }\n",
       "</style>\n",
       "<table border=\"1\" class=\"dataframe\">\n",
       "  <thead>\n",
       "    <tr style=\"text-align: right;\">\n",
       "      <th></th>\n",
       "      <th>CensusTract</th>\n",
       "      <th>target</th>\n",
       "      <th>Latitude</th>\n",
       "      <th>Longitude</th>\n",
       "    </tr>\n",
       "  </thead>\n",
       "  <tbody>\n",
       "    <tr>\n",
       "      <td>0</td>\n",
       "      <td>36005000200</td>\n",
       "      <td>38</td>\n",
       "      <td>40.798844</td>\n",
       "      <td>-73.862111</td>\n",
       "    </tr>\n",
       "    <tr>\n",
       "      <td>1</td>\n",
       "      <td>36005000200</td>\n",
       "      <td>38</td>\n",
       "      <td>40.798844</td>\n",
       "      <td>-73.858945</td>\n",
       "    </tr>\n",
       "    <tr>\n",
       "      <td>2</td>\n",
       "      <td>36005000200</td>\n",
       "      <td>38</td>\n",
       "      <td>40.801106</td>\n",
       "      <td>-73.862111</td>\n",
       "    </tr>\n",
       "    <tr>\n",
       "      <td>3</td>\n",
       "      <td>36005000200</td>\n",
       "      <td>38</td>\n",
       "      <td>40.801106</td>\n",
       "      <td>-73.858945</td>\n",
       "    </tr>\n",
       "    <tr>\n",
       "      <td>4</td>\n",
       "      <td>36005000200</td>\n",
       "      <td>38</td>\n",
       "      <td>40.801106</td>\n",
       "      <td>-73.855779</td>\n",
       "    </tr>\n",
       "    <tr>\n",
       "      <td>...</td>\n",
       "      <td>...</td>\n",
       "      <td>...</td>\n",
       "      <td>...</td>\n",
       "      <td>...</td>\n",
       "    </tr>\n",
       "    <tr>\n",
       "      <td>11727</td>\n",
       "      <td>36085032300</td>\n",
       "      <td>102</td>\n",
       "      <td>40.645075</td>\n",
       "      <td>-74.185025</td>\n",
       "    </tr>\n",
       "    <tr>\n",
       "      <td>11728</td>\n",
       "      <td>36085032300</td>\n",
       "      <td>102</td>\n",
       "      <td>40.645075</td>\n",
       "      <td>-74.181859</td>\n",
       "    </tr>\n",
       "    <tr>\n",
       "      <td>11729</td>\n",
       "      <td>36085032300</td>\n",
       "      <td>102</td>\n",
       "      <td>40.645075</td>\n",
       "      <td>-74.178693</td>\n",
       "    </tr>\n",
       "    <tr>\n",
       "      <td>11730</td>\n",
       "      <td>36085032300</td>\n",
       "      <td>102</td>\n",
       "      <td>40.645075</td>\n",
       "      <td>-74.175528</td>\n",
       "    </tr>\n",
       "    <tr>\n",
       "      <td>11731</td>\n",
       "      <td>36085032300</td>\n",
       "      <td>102</td>\n",
       "      <td>40.645075</td>\n",
       "      <td>-74.172362</td>\n",
       "    </tr>\n",
       "  </tbody>\n",
       "</table>\n",
       "<p>11732 rows × 4 columns</p>\n",
       "</div>"
      ],
      "text/plain": [
       "       CensusTract  target   Latitude  Longitude\n",
       "0      36005000200      38  40.798844 -73.862111\n",
       "1      36005000200      38  40.798844 -73.858945\n",
       "2      36005000200      38  40.801106 -73.862111\n",
       "3      36005000200      38  40.801106 -73.858945\n",
       "4      36005000200      38  40.801106 -73.855779\n",
       "...            ...     ...        ...        ...\n",
       "11727  36085032300     102  40.645075 -74.185025\n",
       "11728  36085032300     102  40.645075 -74.181859\n",
       "11729  36085032300     102  40.645075 -74.178693\n",
       "11730  36085032300     102  40.645075 -74.175528\n",
       "11731  36085032300     102  40.645075 -74.172362\n",
       "\n",
       "[11732 rows x 4 columns]"
      ]
     },
     "execution_count": 317,
     "metadata": {},
     "output_type": "execute_result"
    }
   ],
   "source": [
    "lat_long_crimes"
   ]
  },
  {
   "cell_type": "code",
   "execution_count": 318,
   "metadata": {},
   "outputs": [],
   "source": [
    "lats = lat_long_crimes['Latitude']\n",
    "longs = lat_long_crimes['Longitude']\n",
    "pairs = set([(i,j) for (i,j) in zip(lats,longs)])\n"
   ]
  },
  {
   "cell_type": "code",
   "execution_count": 319,
   "metadata": {},
   "outputs": [],
   "source": [
    "crime_map = np.zeros((len(unique_lats), len(unique_longs)))"
   ]
  },
  {
   "cell_type": "code",
   "execution_count": 322,
   "metadata": {},
   "outputs": [],
   "source": [
    "for lat_index, lat in enumerate(unique_lats):\n",
    "    for long_index, lon in enumerate(unique_longs):\n",
    "        if (lat, lon) in pairs:\n",
    "            crimes = lat_long_crimes[(lat_long_crimes['Latitude'] == lat) &  (lat_long_crimes['Longitude'] == lon)]['target']\n",
    "            crime_map[lat_index][long_index] += crimes"
   ]
  },
  {
   "cell_type": "code",
   "execution_count": 324,
   "metadata": {},
   "outputs": [
    {
     "data": {
      "image/png": "[encoded data removed]",
      "text/plain": [
       "<Figure size 432x288 with 1 Axes>"
      ]
     },
     "metadata": {
      "needs_background": "light"
     },
     "output_type": "display_data"
    }
   ],
   "source": [
    "heat_map(crime_map)"
   ]
  },
  {
   "cell_type": "markdown",
   "metadata": {},
   "source": [
    "### Build Weights Matrix and the cenus to ID Mapping and pickle it for future use"
   ]
  },
  {
   "cell_type": "code",
   "execution_count": 342,
   "metadata": {},
   "outputs": [],
   "source": [
    "unique_tracts = len(lat_long_crimes['CensusTract'].unique())"
   ]
  },
  {
   "cell_type": "code",
   "execution_count": 356,
   "metadata": {},
   "outputs": [],
   "source": [
    "unique_tracts_list = lat_long_crimes['CensusTract'].unique()"
   ]
  },
  {
   "cell_type": "code",
   "execution_count": 330,
   "metadata": {},
   "outputs": [],
   "source": [
    "#BUILD ID -> Tract "
   ]
  },
  {
   "cell_type": "code",
   "execution_count": 341,
   "metadata": {},
   "outputs": [],
   "source": [
    "# c_tract_id = {}\n",
    "# c_id_tract = {}\n",
    "# i = 0\n",
    "# for c in lat_long_crimes['CensusTract'].unique():\n",
    "#     if c not in c_tract_id:\n",
    "#         c_tract_id[c] = i\n",
    "#         c_id_tract[i] = c\n",
    "#         i+=1\n",
    "# with open(\"c_tract_id.pkl\", 'wb') as f:\n",
    "#     pickle.dump(c_tract_id, f)\n",
    "# with open(\"c_id_tract.pkl\", 'wb') as f:\n",
    "#     pickle.dump(c_id_tract, f)\n",
    "c_tract_id =  pickle.load(open(\"c_tract_id.pkl\", 'rb'))\n",
    "c_id_tract = pickle.load(open(\"c_id_tract.pkl\", 'rb'))"
   ]
  },
  {
   "cell_type": "code",
   "execution_count": 343,
   "metadata": {},
   "outputs": [],
   "source": [
    "W = np.zeros((unique_tracts,unique_tracts))"
   ]
  },
  {
   "cell_type": "code",
   "execution_count": 344,
   "metadata": {},
   "outputs": [],
   "source": [
    "nbr_matrix = matr"
   ]
  },
  {
   "cell_type": "code",
   "execution_count": 347,
   "metadata": {},
   "outputs": [],
   "source": [
    "tracts = lat_long_crimes['CensusTract']\n",
    "lats_t = lat_long_crimes['Latitude']\n",
    "longs_t = lat_long_crimes['Longitude']"
   ]
  },
  {
   "cell_type": "code",
   "execution_count": 351,
   "metadata": {},
   "outputs": [],
   "source": [
    "lats_ind_value = {j:i for i,j in enumerate(unique_lats)}"
   ]
  },
  {
   "cell_type": "code",
   "execution_count": 352,
   "metadata": {},
   "outputs": [],
   "source": [
    "longs_ind_value = {j:i for i,j in enumerate(unique_longs)}"
   ]
  },
  {
   "cell_type": "code",
   "execution_count": 357,
   "metadata": {},
   "outputs": [],
   "source": [
    "for i, tract_i in enumerate(unique_tracts_list): \n",
    "    for j, tract_j in enumerate(unique_tracts_list):\n",
    "        lat_i, long_i = lats_ind_value[lats_t[i]], longs_ind_value[longs_t[i]]\n",
    "        lat_j, long_j = lats_ind_value[lats_t[j]], longs_ind_value[longs_t[j]]\n",
    "        if abs(lat_i - lat_j) <=1 and abs(long_i - long_j) <=1:\n",
    "            W[i][j] = 1\n",
    "        "
   ]
  },
  {
   "cell_type": "code",
   "execution_count": 358,
   "metadata": {},
   "outputs": [],
   "source": [
    "with open(\"weight_matrix\", 'wb') as f:\n",
    "    pickle.dump(W, f)"
   ]
  },
  {
   "cell_type": "markdown",
   "metadata": {},
   "source": [
    "## Scratch Pad for ICAR Model"
   ]
  },
  {
   "cell_type": "code",
   "execution_count": 127,
   "metadata": {},
   "outputs": [],
   "source": [
    "def get_data(data, features, target):\n",
    "\n",
    "    \n",
    "    ###pick only the tables required#####\n",
    "    one_table = data[data[target]==1]\n",
    "    zero_table = data[data[target]==0]\n",
    "    one_indices = len(one_table)\n",
    "    zero_indices = len(zero_table)\n",
    "    \n",
    "    if one_indices < zero_indices:\n",
    "        zero_table = zero_table.sample(one_indices)\n",
    "    else:\n",
    "        one_table = one_table.sample(zero_indices)\n",
    "    \n",
    "    table = one_table.append(zero_table, ignore_index=True)\n",
    "    \n",
    "    df_X = table[features]\n",
    "    df_y = table[target]\n",
    "    \n",
    "    \n",
    "        \n",
    "\n",
    "    X_train, X_test, y_train, y_test = train_test_split(df_X, df_y, test_size=0.2)\n",
    "    # Train Data\n",
    "    X_np_train = normalize(np.array(X_train))\n",
    "    y_np_train = np.array(y_train)\n",
    "    \n",
    "\n",
    "        \n",
    "\n",
    "    X_nuts_train = torch.from_numpy(X_np_train).type(torch.float32)\n",
    "    y_nuts_train = torch.from_numpy(y_np_train).type(torch.float32)\n",
    "\n",
    "    censor_ids =  torch.from_numpy(np.array(X_train['CensusIds'])).type(torch.int32)\n",
    "\n",
    "    #Test Data\n",
    "    X_np_test = normalize(np.array(X_test))\n",
    "    y_np_test = np.array(y_test)\n",
    "\n",
    "    X_nuts_test = torch.from_numpy(X_np_test).type(torch.float32)\n",
    "    y_nuts_test = torch.from_numpy(y_np_test).type(torch.float32)\n",
    "\n",
    "    test_censor_ids =  torch.from_numpy(np.array(X_test['CensusIds'])).type(torch.int32)\n",
    "    \n",
    "    return X_nuts_train, y_nuts_train, censor_ids, X_nuts_test, y_nuts_test, test_censor_ids\n"
   ]
  },
  {
   "cell_type": "markdown",
   "metadata": {},
   "source": [
    "## Construct the sequential census ids for points (has lat, long) and data (all features)"
   ]
  },
  {
   "cell_type": "code",
   "execution_count": 128,
   "metadata": {},
   "outputs": [],
   "source": [
    "points = pd.read_csv('data/points.csv')"
   ]
  },
  {
   "cell_type": "code",
   "execution_count": 129,
   "metadata": {},
   "outputs": [
    {
     "data": {
      "text/html": [
       "<div>\n",
       "<style scoped>\n",
       "    .dataframe tbody tr th:only-of-type {\n",
       "        vertical-align: middle;\n",
       "    }\n",
       "\n",
       "    .dataframe tbody tr th {\n",
       "        vertical-align: top;\n",
       "    }\n",
       "\n",
       "    .dataframe thead th {\n",
       "        text-align: right;\n",
       "    }\n",
       "</style>\n",
       "<table border=\"1\" class=\"dataframe\">\n",
       "  <thead>\n",
       "    <tr style=\"text-align: right;\">\n",
       "      <th></th>\n",
       "      <th>Latitude</th>\n",
       "      <th>Longitude</th>\n",
       "      <th>CensusTract</th>\n",
       "      <th>BlockCode</th>\n",
       "    </tr>\n",
       "  </thead>\n",
       "  <tbody>\n",
       "    <tr>\n",
       "      <td>0</td>\n",
       "      <td>40.493568</td>\n",
       "      <td>-74.251508</td>\n",
       "      <td>36085024402</td>\n",
       "      <td>360850244020002</td>\n",
       "    </tr>\n",
       "    <tr>\n",
       "      <td>1</td>\n",
       "      <td>40.493568</td>\n",
       "      <td>-74.248342</td>\n",
       "      <td>36085024402</td>\n",
       "      <td>360850244020002</td>\n",
       "    </tr>\n",
       "    <tr>\n",
       "      <td>2</td>\n",
       "      <td>40.493568</td>\n",
       "      <td>-74.245176</td>\n",
       "      <td>36085024402</td>\n",
       "      <td>360850244020002</td>\n",
       "    </tr>\n",
       "    <tr>\n",
       "      <td>3</td>\n",
       "      <td>40.493568</td>\n",
       "      <td>-74.242010</td>\n",
       "      <td>36085024402</td>\n",
       "      <td>360850244020002</td>\n",
       "    </tr>\n",
       "    <tr>\n",
       "      <td>4</td>\n",
       "      <td>40.493568</td>\n",
       "      <td>-74.238844</td>\n",
       "      <td>36085024402</td>\n",
       "      <td>360850244020002</td>\n",
       "    </tr>\n",
       "  </tbody>\n",
       "</table>\n",
       "</div>"
      ],
      "text/plain": [
       "    Latitude  Longitude  CensusTract        BlockCode\n",
       "0  40.493568 -74.251508  36085024402  360850244020002\n",
       "1  40.493568 -74.248342  36085024402  360850244020002\n",
       "2  40.493568 -74.245176  36085024402  360850244020002\n",
       "3  40.493568 -74.242010  36085024402  360850244020002\n",
       "4  40.493568 -74.238844  36085024402  360850244020002"
      ]
     },
     "execution_count": 129,
     "metadata": {},
     "output_type": "execute_result"
    }
   ],
   "source": [
    "points.head()"
   ]
  },
  {
   "cell_type": "code",
   "execution_count": 168,
   "metadata": {},
   "outputs": [
    {
     "data": {
      "text/plain": [
       "2093"
      ]
     },
     "execution_count": 168,
     "metadata": {},
     "output_type": "execute_result"
    }
   ],
   "source": [
    "len(set(list(data['CensusTract'])))"
   ]
  },
  {
   "cell_type": "code",
   "execution_count": 131,
   "metadata": {},
   "outputs": [],
   "source": [
    "census_ids = {}\n",
    "i = 0\n",
    "for ct in data['CensusTract']:\n",
    "    if ct not in census_ids:\n",
    "        census_ids[ct] = i\n",
    "        i += 1"
   ]
  },
  {
   "cell_type": "code",
   "execution_count": 132,
   "metadata": {},
   "outputs": [
    {
     "data": {
      "text/plain": [
       "2093"
      ]
     },
     "execution_count": 132,
     "metadata": {},
     "output_type": "execute_result"
    }
   ],
   "source": [
    "i"
   ]
  },
  {
   "cell_type": "code",
   "execution_count": 133,
   "metadata": {},
   "outputs": [],
   "source": [
    "data['CensusIds'] = [census_ids[c] for c in data['CensusTract']]\n",
    "points['CensusIds'] = [census_ids[c] for c in points['CensusTract']]"
   ]
  },
  {
   "cell_type": "code",
   "execution_count": 169,
   "metadata": {},
   "outputs": [
    {
     "data": {
      "text/plain": [
       "2077"
      ]
     },
     "execution_count": 169,
     "metadata": {},
     "output_type": "execute_result"
    }
   ],
   "source": [
    "len(set(list(points['CensusIds'])))"
   ]
  },
  {
   "cell_type": "code",
   "execution_count": 135,
   "metadata": {},
   "outputs": [],
   "source": [
    "points_grpd = points[['CensusIds', 'Latitude', 'Longitude']].groupby(['CensusIds']).mean()"
   ]
  },
  {
   "cell_type": "code",
   "execution_count": 143,
   "metadata": {},
   "outputs": [],
   "source": [
    "points_grpd.to_csv('temp.csv')"
   ]
  },
  {
   "cell_type": "code",
   "execution_count": 144,
   "metadata": {},
   "outputs": [],
   "source": [
    "points_grpd = pd.read_csv('temp.csv')"
   ]
  },
  {
   "cell_type": "code",
   "execution_count": 145,
   "metadata": {},
   "outputs": [
    {
     "data": {
      "text/html": [
       "<div>\n",
       "<style scoped>\n",
       "    .dataframe tbody tr th:only-of-type {\n",
       "        vertical-align: middle;\n",
       "    }\n",
       "\n",
       "    .dataframe tbody tr th {\n",
       "        vertical-align: top;\n",
       "    }\n",
       "\n",
       "    .dataframe thead th {\n",
       "        text-align: right;\n",
       "    }\n",
       "</style>\n",
       "<table border=\"1\" class=\"dataframe\">\n",
       "  <thead>\n",
       "    <tr style=\"text-align: right;\">\n",
       "      <th></th>\n",
       "      <th>CensusIds</th>\n",
       "      <th>Latitude</th>\n",
       "      <th>Longitude</th>\n",
       "    </tr>\n",
       "  </thead>\n",
       "  <tbody>\n",
       "    <tr>\n",
       "      <td>0</td>\n",
       "      <td>0</td>\n",
       "      <td>40.805866</td>\n",
       "      <td>-73.860278</td>\n",
       "    </tr>\n",
       "    <tr>\n",
       "      <td>1</td>\n",
       "      <td>1</td>\n",
       "      <td>40.807594</td>\n",
       "      <td>-73.851237</td>\n",
       "    </tr>\n",
       "    <tr>\n",
       "      <td>2</td>\n",
       "      <td>2</td>\n",
       "      <td>40.819196</td>\n",
       "      <td>-73.858040</td>\n",
       "    </tr>\n",
       "    <tr>\n",
       "      <td>3</td>\n",
       "      <td>3</td>\n",
       "      <td>40.801216</td>\n",
       "      <td>-73.909212</td>\n",
       "    </tr>\n",
       "    <tr>\n",
       "      <td>4</td>\n",
       "      <td>4</td>\n",
       "      <td>40.817312</td>\n",
       "      <td>-73.865804</td>\n",
       "    </tr>\n",
       "    <tr>\n",
       "      <td>...</td>\n",
       "      <td>...</td>\n",
       "      <td>...</td>\n",
       "      <td>...</td>\n",
       "    </tr>\n",
       "    <tr>\n",
       "      <td>2072</td>\n",
       "      <td>2088</td>\n",
       "      <td>40.723467</td>\n",
       "      <td>-73.886382</td>\n",
       "    </tr>\n",
       "    <tr>\n",
       "      <td>2073</td>\n",
       "      <td>2089</td>\n",
       "      <td>40.596457</td>\n",
       "      <td>-73.969749</td>\n",
       "    </tr>\n",
       "    <tr>\n",
       "      <td>2074</td>\n",
       "      <td>2090</td>\n",
       "      <td>40.728744</td>\n",
       "      <td>-73.874774</td>\n",
       "    </tr>\n",
       "    <tr>\n",
       "      <td>2075</td>\n",
       "      <td>2091</td>\n",
       "      <td>40.712915</td>\n",
       "      <td>-73.839950</td>\n",
       "    </tr>\n",
       "    <tr>\n",
       "      <td>2076</td>\n",
       "      <td>2092</td>\n",
       "      <td>40.746834</td>\n",
       "      <td>-73.775050</td>\n",
       "    </tr>\n",
       "  </tbody>\n",
       "</table>\n",
       "<p>2077 rows × 3 columns</p>\n",
       "</div>"
      ],
      "text/plain": [
       "      CensusIds   Latitude  Longitude\n",
       "0             0  40.805866 -73.860278\n",
       "1             1  40.807594 -73.851237\n",
       "2             2  40.819196 -73.858040\n",
       "3             3  40.801216 -73.909212\n",
       "4             4  40.817312 -73.865804\n",
       "...         ...        ...        ...\n",
       "2072       2088  40.723467 -73.886382\n",
       "2073       2089  40.596457 -73.969749\n",
       "2074       2090  40.728744 -73.874774\n",
       "2075       2091  40.712915 -73.839950\n",
       "2076       2092  40.746834 -73.775050\n",
       "\n",
       "[2077 rows x 3 columns]"
      ]
     },
     "execution_count": 145,
     "metadata": {},
     "output_type": "execute_result"
    }
   ],
   "source": [
    "points_grpd"
   ]
  },
  {
   "cell_type": "code",
   "execution_count": null,
   "metadata": {},
   "outputs": [],
   "source": [
    "len(set(list(points_grpd1['CensusIds'])))"
   ]
  },
  {
   "cell_type": "code",
   "execution_count": 147,
   "metadata": {},
   "outputs": [],
   "source": [
    "k = set(list(data['CensusIds'])) - set(list(points_grpd['CensusIds']))"
   ]
  },
  {
   "cell_type": "code",
   "execution_count": 150,
   "metadata": {},
   "outputs": [
    {
     "name": "stdout",
     "output_type": "stream",
     "text": [
      "36005018301 101\n",
      "36005021301 120\n",
      "36005036902 227\n",
      "36005040304 258\n",
      "36047035500 544\n",
      "36047045400 629\n",
      "36047048900 644\n",
      "36061003002 956\n",
      "36061015802 1075\n",
      "36061024900 1159\n",
      "36081028100 1350\n",
      "36005016900 1764\n",
      "36047016400 1795\n",
      "36061014401 1851\n",
      "36047061003 1980\n",
      "36061020701 1996\n"
     ]
    }
   ],
   "source": [
    "# for ct in data['CensusTract']\n",
    "for kk,v in census_ids.items():\n",
    "    if v in k:\n",
    "        print(kk,v)"
   ]
  },
  {
   "cell_type": "code",
   "execution_count": 86,
   "metadata": {},
   "outputs": [],
   "source": [
    "l = points['CensusIds'].max()+1\n",
    "dists = np.zeros((l, l))\n",
    "for i in range(l):\n",
    "    for j in range(l):\n",
    "        \n",
    "        "
   ]
  },
  {
   "cell_type": "code",
   "execution_count": 87,
   "metadata": {},
   "outputs": [
    {
     "data": {
      "text/plain": [
       "2091"
      ]
     },
     "execution_count": 87,
     "metadata": {},
     "output_type": "execute_result"
    }
   ],
   "source": [
    "i"
   ]
  },
  {
   "cell_type": "code",
   "execution_count": 16,
   "metadata": {},
   "outputs": [
    {
     "name": "stdout",
     "output_type": "stream",
     "text": [
      "18709 2143\n"
     ]
    }
   ],
   "source": [
    "bool_split = 9\n",
    "offset = 1\n",
    "def sep_data(row):\n",
    "    if row['target'] >= bool_split + offset :\n",
    "        return 1\n",
    "    elif row['target'] <= bool_split - offset :\n",
    "        return 0\n",
    "    else:\n",
    "        return float('nan')\n",
    "features = ['TotalPop', 'Income', 'IncomeErr',\n",
    "       'IncomePerCap', 'IncomePerCapErr', 'Poverty', 'ChildPoverty',\n",
    "       'Professional', 'Service', 'Office', 'Construction', 'Production',\n",
    "       'WorkAtHome', 'MeanCommute', 'Employed', 'PrivateWork', 'PublicWork',\n",
    "       'SelfEmployed', 'FamilyWork', 'Unemployment','restaurants', 'bar', 'park', 'subway_station', 'CensusIds']\n",
    "target = 'binary_target'       \n",
    "data_new = deepcopy(data)\n",
    "data_new['binary_target'] = data_new.apply(sep_data, axis=1)\n",
    "data_new = data_new.dropna()\n",
    "print(len(data_new[data_new['binary_target']==0]), len(data_new[data_new['binary_target']==1]))\n",
    "X_nuts_train, y_nuts_train, place_mapping, X_nuts_test, y_nuts_test, test_place_mapping= get_data(data_new, features, target)"
   ]
  },
  {
   "cell_type": "code",
   "execution_count": 60,
   "metadata": {},
   "outputs": [],
   "source": [
    "W = W.type(torch.int32)\n",
    "place_mapping = place_mapping.type(torch.int32)"
   ]
  },
  {
   "cell_type": "code",
   "execution_count": 15,
   "metadata": {},
   "outputs": [
    {
     "data": {
      "text/plain": [
       "tensor([2093, 2093, 2093,  ..., 2093, 2093, 2093])"
      ]
     },
     "execution_count": 15,
     "metadata": {},
     "output_type": "execute_result"
    }
   ],
   "source": [
    "torch.sum(W, axis=1)"
   ]
  },
  {
   "cell_type": "code",
   "execution_count": 75,
   "metadata": {},
   "outputs": [],
   "source": [
    "def old_model(data_x, data_y, D, W, place_mapping):\n",
    "    beta = []\n",
    "    for i in range(D+1):\n",
    "        beta.append(pyro.sample(\"beta\"+str(i), dist.Normal(0., 0.0001)))\n",
    "        \n",
    "    sd_u = pyro.sample(\"sd_u\",dist.Uniform(0,100))\n",
    "    \n",
    "    logit = beta[0]\n",
    "    for i in range(D):\n",
    "        logit = logit + beta[i+1]*data_x[:,i]\n",
    "    \n",
    "    #unstructured random noise\n",
    "    sigma2_ui = 1/(sd_u**2) \n",
    "    u_i = pyro.sample(\"u_i\",dist.Normal(0, sigma2_ui))\n",
    "    \n",
    "    #structured random noise\n",
    "    sd_s = pyro.sample(\"sd_s\",dist.Uniform(0,100))\n",
    "    sigma2_si = 1/(sd_s**2) \n",
    "    s_i = pyro.sample(\"s_i\",dist.Normal(0, sigma2_si))\n",
    "    m = torch.sum(W, axis=1) + 1\n",
    "    W_star = W/m\n",
    "    mean_S_j_given_S_i = 0\n",
    "    p = len(W)\n",
    "    mean_S_j_given_S_i =  torch.sum(W[i] * s_i)\n",
    "    sd_S_j_given_S_i = pyro.sample(\"sd_sij\",dist.Uniform(0,100))\n",
    "    s_ij = pyro.sample(\"s_ij\",dist.Normal(mean_S_j_given_S_i, sd_S_j_given_S_i))\n",
    "    \n",
    "    logit = logit + u_i + s_ij\n",
    "    \n",
    "    p = 1. / (1 + torch.exp(-logit)) \n",
    "\n",
    "\n",
    "    with pyro.plate(\"data\", len(data_y)):\n",
    "        y = pyro.sample(\"obs\",dist.Bernoulli(p), obs=data_y)\n",
    "    "
   ]
  },
  {
   "cell_type": "code",
   "execution_count": 76,
   "metadata": {},
   "outputs": [
    {
     "name": "stderr",
     "output_type": "stream",
     "text": [
      "Warmup:   0%|          | 0/12 [00:00<?, ?it/s]/anaconda3/lib/python3.7/site-packages/ipykernel_launcher.py:23: TracerWarning: Converting a tensor to a Python index might cause the trace to be incorrect. We can't record the data flow of Python values, so this value will be treated as a constant in the future. This means that the trace might not generalize to other inputs!\n",
      "/anaconda3/lib/python3.7/site-packages/ipykernel_launcher.py:33: TracerWarning: Converting a tensor to a Python index might cause the trace to be incorrect. We can't record the data flow of Python values, so this value will be treated as a constant in the future. This means that the trace might not generalize to other inputs!\n",
      "/anaconda3/lib/python3.7/site-packages/pyro/poutine/subsample_messenger.py:56: TracerWarning: torch.tensor results are registered as constants in the trace. You can safely ignore this warning if you use this function to create tensors out of constant variables that would be the same every time you call this function. In any other case, this might cause the trace to be incorrect.\n",
      "  result = torch.tensor(0., device=self.device)\n",
      "sample: 100%|██████████| 12/12 [00:00<00:00, 14.79it/s, step size=1.01e-04, acc. prob=1.000]\n"
     ]
    }
   ],
   "source": [
    "nuts_kernel = NUTS(model, jit_compile=True, adapt_step_size=True)\n",
    "mcmc = MCMC(nuts_kernel, num_samples=2, warmup_steps=10)\n",
    "mcmc_run = mcmc.run(X_nuts_train, y_nuts_train, X_nuts_train.numpy().shape[1], W, place_mapping)\n",
    "\n",
    "hmc_samples_2 = {k: v.detach().cpu().numpy() for k, v in mcmc.get_samples().items()}\n"
   ]
  },
  {
   "cell_type": "code",
   "execution_count": null,
   "metadata": {},
   "outputs": [],
   "source": []
  },
  {
   "cell_type": "code",
   "execution_count": 24,
   "metadata": {},
   "outputs": [],
   "source": [
    "def funcc(phi, W, place_mapping):\n",
    "    res = []\n",
    "    for i in range(len(phi)):\n",
    "        print(i)\n",
    "        cur_place = place_mapping[i]\n",
    "        nbrs = [j for j in W[i] if W[i][j]>0]\n",
    "        s = 0\n",
    "        for nbr in nbrs:\n",
    "            s += (phi[nbr] - phi[cur_place])\n",
    "        res.append(s)\n",
    "    res = torch.from_numpy(np.array(res)).type(torch.float32)\n",
    "    return res\n",
    "        "
   ]
  },
  {
   "cell_type": "code",
   "execution_count": 25,
   "metadata": {},
   "outputs": [],
   "source": [
    "p = len(W)"
   ]
  },
  {
   "cell_type": "code",
   "execution_count": 26,
   "metadata": {},
   "outputs": [
    {
     "data": {
      "text/plain": [
       "2093"
      ]
     },
     "execution_count": 26,
     "metadata": {},
     "output_type": "execute_result"
    }
   ],
   "source": [
    "p"
   ]
  },
  {
   "cell_type": "code",
   "execution_count": 27,
   "metadata": {},
   "outputs": [
    {
     "data": {
      "text/plain": [
       "tensor([1375, 1819,  797,  ...,  318,  561,  870], dtype=torch.int32)"
      ]
     },
     "execution_count": 27,
     "metadata": {},
     "output_type": "execute_result"
    }
   ],
   "source": [
    "place_mapping"
   ]
  },
  {
   "cell_type": "code",
   "execution_count": null,
   "metadata": {},
   "outputs": [],
   "source": [
    "z = torch.FloatTensor([1,2,3])\n"
   ]
  },
  {
   "cell_type": "code",
   "execution_count": null,
   "metadata": {},
   "outputs": [],
   "source": [
    "z"
   ]
  },
  {
   "cell_type": "code",
   "execution_count": null,
   "metadata": {},
   "outputs": [],
   "source": [
    "z.shape"
   ]
  },
  {
   "cell_type": "code",
   "execution_count": 46,
   "metadata": {},
   "outputs": [
    {
     "data": {
      "text/plain": [
       "tensor([[1., 2., 3.],\n",
       "        [1., 2., 3.],\n",
       "        [1., 2., 3.]])"
      ]
     },
     "execution_count": 46,
     "metadata": {},
     "output_type": "execute_result"
    }
   ],
   "source": [
    "z.repeat(z.shape[0],1)"
   ]
  },
  {
   "cell_type": "code",
   "execution_count": null,
   "metadata": {},
   "outputs": [],
   "source": [
    "beta = []\n",
    "for i in range(D+1):\n",
    "    beta.append(pyro.sample(\"beta\"+str(i), dist.Normal(0., 0.0001)))\n",
    "        "
   ]
  },
  {
   "cell_type": "code",
   "execution_count": null,
   "metadata": {},
   "outputs": [],
   "source": [
    "W = z"
   ]
  },
  {
   "cell_type": "code",
   "execution_count": 45,
   "metadata": {},
   "outputs": [],
   "source": [
    "W = [[1,1,1],[1,1,1],[1,1,1]]\n",
    "W = torch.from_numpy(np.array(W)).type(torch.int32)"
   ]
  },
  {
   "cell_type": "code",
   "execution_count": 46,
   "metadata": {},
   "outputs": [
    {
     "data": {
      "text/plain": [
       "3"
      ]
     },
     "execution_count": 46,
     "metadata": {},
     "output_type": "execute_result"
    }
   ],
   "source": [
    "p = len(W)\n",
    "p"
   ]
  },
  {
   "cell_type": "code",
   "execution_count": 47,
   "metadata": {},
   "outputs": [],
   "source": [
    "W = W/(torch.sum(W, axis=1) + 1)"
   ]
  },
  {
   "cell_type": "code",
   "execution_count": 48,
   "metadata": {},
   "outputs": [],
   "source": [
    "D = torch.diag(torch.sum(W, axis=1) + 1)\n"
   ]
  },
  {
   "cell_type": "code",
   "execution_count": 49,
   "metadata": {},
   "outputs": [
    {
     "data": {
      "text/plain": [
       "tensor([[1, 0, 0],\n",
       "        [0, 1, 0],\n",
       "        [0, 0, 1]])"
      ]
     },
     "execution_count": 49,
     "metadata": {},
     "output_type": "execute_result"
    }
   ],
   "source": [
    "D"
   ]
  },
  {
   "cell_type": "code",
   "execution_count": 50,
   "metadata": {},
   "outputs": [
    {
     "data": {
      "text/plain": [
       "tensor([[3, 0, 0],\n",
       "        [0, 3, 0],\n",
       "        [0, 0, 3]])"
      ]
     },
     "execution_count": 50,
     "metadata": {},
     "output_type": "execute_result"
    }
   ],
   "source": [
    "3 *torch.abs(D-W)"
   ]
  },
  {
   "cell_type": "code",
   "execution_count": null,
   "metadata": {},
   "outputs": [],
   "source": [
    "dist.MultivariateNormal(torch.zeros(p), 3 * torch.abs((D - W)))"
   ]
  },
  {
   "cell_type": "code",
   "execution_count": null,
   "metadata": {},
   "outputs": [],
   "source": []
  },
  {
   "cell_type": "code",
   "execution_count": 55,
   "metadata": {},
   "outputs": [],
   "source": [
    "phi = pyro.sample(\"phi\", dist.MultivariateNormal(torch.zeros(p).type(torch.float32), 3 * torch.abs((D - W).type(torch.float32))))"
   ]
  },
  {
   "cell_type": "code",
   "execution_count": 59,
   "metadata": {},
   "outputs": [],
   "source": [
    "D = torch.diag(torch.sum(W, axis=1) + 1)\n",
    "\n",
    "\n",
    "phi = pyro.sample(\"phi\", dist.MultivariateNormal(torch.zeros(p).type(torch.float32), sigma2_si * (D - W).type(torch.float32)))"
   ]
  },
  {
   "cell_type": "code",
   "execution_count": 61,
   "metadata": {},
   "outputs": [],
   "source": [
    "def new_model(data_x, data_y, D, W, place_mapping):\n",
    "    beta = []\n",
    "    for i in range(D+1):\n",
    "        beta.append(pyro.sample(\"beta\"+str(i), dist.Normal(0., 0.0001)))\n",
    "        \n",
    "    sd_u = pyro.sample(\"sd_u\",dist.Uniform(0,100))\n",
    "    \n",
    "    logit = beta[0]\n",
    "    for i in range(D):\n",
    "        logit = logit + beta[i+1]*data_x[:,i]\n",
    "    \n",
    "    #unstructured random noise\n",
    "    sigma2_ui = 1/(sd_u**2) \n",
    "    u_i = pyro.sample(\"u_i\",dist.Normal(0, sigma2_ui))\n",
    "    \n",
    "    #structured random noise\n",
    "    p = len(W)\n",
    "    sd_s = pyro.sample(\"sd_s\",dist.Uniform(0,100))\n",
    "    sigma2_si = 1/(sd_s**2) \n",
    "    \n",
    "    D = torch.diag(torch.sum(W, axis=1) + 1)\n",
    "    \n",
    "    \n",
    "    phi = pyro.sample(\"phi\"+str(i), dist.Normal(torch.zeros(p), sigma2_si * (D - W)))\n",
    "    \n",
    "    print(\"making people\")\n",
    "    people = phi.repeat(phi.shape[0],1).transpose(0,1) * W\n",
    "    print(\"making nbrs\")\n",
    "    nbrs = phi.repeat(phi.shape[0],1) * W\n",
    "    print(\"making diff\")\n",
    "    diff = torch.sum((people - nbrs) ** 2, axis=1)\n",
    "    \n",
    "    \n",
    "    \n",
    "\n",
    "    logit = logit + u_i + diff\n",
    "    \n",
    "    p = 1. / (1 + torch.exp(-logit)) \n",
    "\n",
    "\n",
    "    with pyro.plate(\"data\", len(data_y)):\n",
    "        y = pyro.sample(\"obs\",dist.Bernoulli(p), obs=data_y)\n",
    "    "
   ]
  },
  {
   "cell_type": "code",
   "execution_count": null,
   "metadata": {},
   "outputs": [],
   "source": [
    "nuts_kernel = NUTS(new_model, jit_compile=True, adapt_step_size=True)\n",
    "mcmc = MCMC(nuts_kernel, num_samples=2, warmup_steps=1)\n",
    "mcmc_run = mcmc.run(X_nuts_train, y_nuts_train, X_nuts_train.numpy().shape[1], W, place_mapping)\n",
    "\n",
    "hmc_samples_3 = {k: v.detach().cpu().numpy() for k, v in mcmc.get_samples().items()}\n"
   ]
  },
  {
   "cell_type": "code",
   "execution_count": null,
   "metadata": {},
   "outputs": [],
   "source": []
  }
 ],
 "metadata": {
  "kernelspec": {
   "display_name": "Python 3",
   "language": "python",
   "name": "python3"
  },
  "language_info": {
   "codemirror_mode": {
    "name": "ipython",
    "version": 3
   },
   "file_extension": ".py",
   "mimetype": "text/x-python",
   "name": "python",
   "nbconvert_exporter": "python",
   "pygments_lexer": "ipython3",
   "version": "3.7.1"
  }
 },
 "nbformat": 4,
 "nbformat_minor": 2
}
