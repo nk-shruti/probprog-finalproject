{
 "cells": [
  {
   "cell_type": "markdown",
   "metadata": {},
   "source": [
    "$Y(i)$ is the binary response variable for the $i-$th precinct. \n",
    "\\begin{align*}\n",
    "Y(i) &\\sim \\textrm{Bernoulli}(p(i)) \\\\\n",
    "\\textrm{Where } p(i) &\\textrm{ is modelled as a logistic regressor } \\\\\n",
    "\\textrm{logit}(p(i)) &= log[\\dfrac{p(i)}{1-p(i)}] \\\\\n",
    "\\textrm{logit}(p(i)) &= \\beta_0 + \\beta_1 x_i(i)+...+\\beta_k x_k(i) + U(i) + S(i) \\\\\n",
    "U(i) &\\sim N(0, \\sigma_u^2)\n",
    "\\end{align*}\n",
    "$U(i)$ is the unstructured spatial random effect (noise) added. Without this, the limitation is $p(i)$ is fixed for each $i$. \\\\\n",
    "\\begin{align*}\n",
    "S(i)|S(j) &\\sim N(\\gamma \\sum_{i\\neq j} \\dfrac{w(i,j)s(j)}{m(i)}, w_s^2(i))    \n",
    "\\end{align*}\n",
    "Where $W$ is a matrix of size $ps \\times ps$ where $ps$ is the number of precincts.The value is 1 if the row precinct and coliumn precinct are connected. Else it is 0. This encodes the relationship that neighbouring precincts have on each other. $m(i)$ is a normalizing factor mathematically brought in by the authors to ensure that covariance matrix is invertible.\\\\\n",
    "Here, $k=0,1$ \\\\\n",
    "\\begin{align*}\n",
    "p(i) &= \\dfrac{e^{\\beta_0 + \\beta_1x_1(i) + U(i) + S(i)}}{e^{\\beta_0 + \\beta_1x_1(i) + U(i) + S(i)} + 1} \\\\\n",
    "\\tau_u = \\dfrac{1}{\\sigma_u^2} \\textrm{ and } & \\tau_w = \\dfrac{1}{w_s^2} \\\\\n",
    "\n",
    "$\\tau_u = \\dfrac{1}{\\sigma_u^2} \\textrm{ and } & \\tau_w = \\dfrac{1}{w_s^2}$\n"
   ]
  },
  {
   "cell_type": "markdown",
   "metadata": {},
   "source": [
    "# Model 1 : Basic Logistic Regression - Independent of time and space"
   ]
  },
  {
   "cell_type": "markdown",
   "metadata": {},
   "source": [
    "$Y(i)$ is the binary response variable for the $i-$th precinct. \n",
    "\\begin{align*}\n",
    "Y(i) &\\sim \\textrm{Bernoulli}(p(i)) \\\\\n",
    "\\textrm{Where } p(i) &\\textrm{ is modelled as a logistic regressor } \\\\\n",
    "\\textrm{logit}(p(i)) &= log[\\dfrac{p(i)}{1-p(i)}] \\\\\n",
    "\\textrm{logit}(p(i)) &= \\beta_0 + \\beta_1 x_i(i)+...+\\beta_k x_k(i) \\\\\n",
    "\\end{align*}\n",
    "\n",
    "\n",
    "Priors are as follows : \n",
    "\\begin{align*}\n",
    "P(\\beta_i) &= N(0,10) \\\\\n",
    "\\end{align*}"
   ]
  },
  {
   "cell_type": "markdown",
   "metadata": {},
   "source": [
    "# Model 2 : Using unstructured spatial noise"
   ]
  },
  {
   "cell_type": "markdown",
   "metadata": {},
   "source": [
    "$Y(i)$ is the binary response variable for the $i-$th precinct. \n",
    "\\begin{align*}\n",
    "Y(i) &\\sim \\textrm{Bernoulli}(p(i)) \\\\\n",
    "\\textrm{Where } p(i) &\\textrm{ is modelled as a logistic regressor } \\\\\n",
    "\\textrm{logit}(p(i)) &= log[\\dfrac{p(i)}{1-p(i)}] \\\\\n",
    "\\textrm{logit}(p(i)) &= \\beta_0 + \\beta_1 x_i(i)+...+\\beta_k x_k(i) + U(i) \\\\\n",
    "U(i) &\\sim N(0, \\sigma_u^2)\n",
    "\\end{align*} \\\n",
    "$U(i)$ is the unstructured spatial random effect (noise) added. Without this, the limitation is $p(i)$ is fixed for each $i$.\n",
    "\n",
    "Priors are as follows : \n",
    "\\begin{align*}\n",
    "P(\\beta_i) &= N(0,10) \\\\\n",
    "\\tau_u &= \\dfrac{1}{\\sigma_u^2} \\\\\n",
    "P(\\tau_u) &= \\textrm{Gamma} (0.001,0.001) \\\\\n",
    "\\end{align*}\n"
   ]
  },
  {
   "cell_type": "markdown",
   "metadata": {},
   "source": [
    "# Model 3 : Using ICAR Model for structured spatial noise"
   ]
  },
  {
   "cell_type": "markdown",
   "metadata": {},
   "source": [
    "$Y(i)$ is the binary response variable for the $i-$th precinct. \n",
    "\\begin{align*}\n",
    "Y(i) &\\sim \\textrm{Bernoulli}(p(i)) \\\\\n",
    "\\textrm{Where } p(i) &\\textrm{ is modelled as a logistic regressor } \\\\\n",
    "\\textrm{logit}(p(i)) &= log[\\dfrac{p(i)}{1-p(i)}] \\\\\n",
    "\\textrm{logit}(p(i)) &= \\beta_0 + \\beta_1 x_i(i)+...+\\beta_k x_k(i) + U(i) + \\phi(i) \\\\\n",
    "U(i) &\\sim N(0, \\sigma_u^2)\n",
    "\\end{align*} \\\n",
    "$U(i)$ is the unstructured spatial random effect (noise) added. Without this, the limitation is $p(i)$ is fixed for each $i$. \\\n",
    "\\begin{align*}\n",
    "p(\\phi_i|\\phi_j) &= N\\left(\\frac{\\sum_{i \\sim j} \\phi_i}{d_i}, \\frac{\\sigma_s^2(i)}{d_i}\\right)    \\\\\n",
    "\\end{align*} \\\n",
    "Here $i \\sim j$ means that node $j$ in a neighbor of node $i$ and $ i \\neq j$ and $d_i$ denotes number of neighbors of tract/node $i$. \\\n",
    "This encodes the relationship that neighbouring precincts have on each other.\\\n",
    "The joint of $\\phi$ with **zero mean and unit variance** is:\n",
    "\\begin{align*}\n",
    "p(\\phi) &\\propto exp \\left( -\\frac{1}{2} \\sum_{i \\sim j}(\\phi_i - \\phi_j)^2\\right)  \\\\\n",
    "mean(\\phi) &= \\frac{\\sum_N{\\phi_i}}{N} = 0 \\\\\n",
    "&\\implies sum(\\phi) = 0\n",
    "\\end{align*}\n",
    "\n",
    "\n",
    "Priors are as follows : \n",
    "\\begin{align*}\n",
    "P(\\beta_i) &= N(0,10) \\\\\n",
    "\\tau_u &= \\dfrac{1}{\\sigma_u^2} \\\\\n",
    "\\tau_w &= \\dfrac{1}{\\sigma_s^2} \\\\\n",
    "P(\\tau_u) &= \\textrm{Gamma} (0.001,0.001) \\\\\n",
    "\\end{align*}\n",
    "\n"
   ]
  },
  {
   "cell_type": "markdown",
   "metadata": {},
   "source": [
    "Why ICAR?\n",
    "\n",
    "- Mean of each $\\phi_i$ is average of neighbors\n",
    "- Variance decreases as number of neighbors increases\n",
    "- $(\\phi_i - \\phi_j)^2$ : penalty based on distance between neighboring values\n"
   ]
  },
  {
   "cell_type": "code",
   "execution_count": null,
   "metadata": {},
   "outputs": [],
   "source": []
  }
 ],
 "metadata": {
  "kernelspec": {
   "display_name": "Python 3",
   "language": "python",
   "name": "python3"
  },
  "language_info": {
   "codemirror_mode": {
    "name": "ipython",
    "version": 3
   },
   "file_extension": ".py",
   "mimetype": "text/x-python",
   "name": "python",
   "nbconvert_exporter": "python",
   "pygments_lexer": "ipython3",
   "version": "3.7.4"
  }
 },
 "nbformat": 4,
 "nbformat_minor": 4
}
