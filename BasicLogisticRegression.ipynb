{
 "cells": [
  {
   "cell_type": "code",
   "execution_count": 151,
   "metadata": {},
   "outputs": [
    {
     "ename": "ImportError",
     "evalue": "cannot import name 'Predictive' from 'pyro.infer' (/Users/raksh/anaconda3/lib/python3.7/site-packages/pyro/infer/__init__.py)",
     "output_type": "error",
     "traceback": [
      "\u001b[0;31m---------------------------------------------------------------------------\u001b[0m",
      "\u001b[0;31mImportError\u001b[0m                               Traceback (most recent call last)",
      "\u001b[0;32m<ipython-input-151-a3b1bbf92da8>\u001b[0m in \u001b[0;36m<module>\u001b[0;34m\u001b[0m\n\u001b[1;32m     16\u001b[0m \u001b[0;32mimport\u001b[0m \u001b[0mpyro\u001b[0m\u001b[0;34m.\u001b[0m\u001b[0mdistributions\u001b[0m \u001b[0;32mas\u001b[0m \u001b[0mdist\u001b[0m\u001b[0;34m\u001b[0m\u001b[0;34m\u001b[0m\u001b[0m\n\u001b[1;32m     17\u001b[0m \u001b[0;32mfrom\u001b[0m \u001b[0mpyro\u001b[0m\u001b[0;34m.\u001b[0m\u001b[0mdistributions\u001b[0m \u001b[0;32mimport\u001b[0m \u001b[0mNormal\u001b[0m\u001b[0;34m,\u001b[0m \u001b[0mUniform\u001b[0m\u001b[0;34m,\u001b[0m \u001b[0mDelta\u001b[0m\u001b[0;34m\u001b[0m\u001b[0;34m\u001b[0m\u001b[0m\n\u001b[0;32m---> 18\u001b[0;31m \u001b[0;32mfrom\u001b[0m \u001b[0mpyro\u001b[0m\u001b[0;34m.\u001b[0m\u001b[0minfer\u001b[0m \u001b[0;32mimport\u001b[0m \u001b[0mEmpiricalMarginal\u001b[0m\u001b[0;34m,\u001b[0m \u001b[0mSVI\u001b[0m\u001b[0;34m,\u001b[0m \u001b[0mTrace_ELBO\u001b[0m\u001b[0;34m,\u001b[0m \u001b[0mJitTrace_ELBO\u001b[0m\u001b[0;34m,\u001b[0m \u001b[0mTracePredictive\u001b[0m\u001b[0;34m,\u001b[0m \u001b[0mPredictive\u001b[0m\u001b[0;34m\u001b[0m\u001b[0;34m\u001b[0m\u001b[0m\n\u001b[0m\u001b[1;32m     19\u001b[0m \u001b[0;32mfrom\u001b[0m \u001b[0mpyro\u001b[0m\u001b[0;34m.\u001b[0m\u001b[0mcontrib\u001b[0m\u001b[0;34m.\u001b[0m\u001b[0mautoguide\u001b[0m \u001b[0;32mimport\u001b[0m \u001b[0mAutoMultivariateNormal\u001b[0m\u001b[0;34m\u001b[0m\u001b[0;34m\u001b[0m\u001b[0m\n\u001b[1;32m     20\u001b[0m \u001b[0;32mfrom\u001b[0m \u001b[0mpyro\u001b[0m\u001b[0;34m.\u001b[0m\u001b[0minfer\u001b[0m\u001b[0;34m.\u001b[0m\u001b[0mmcmc\u001b[0m\u001b[0;34m.\u001b[0m\u001b[0mapi\u001b[0m \u001b[0;32mimport\u001b[0m \u001b[0mMCMC\u001b[0m\u001b[0;34m\u001b[0m\u001b[0;34m\u001b[0m\u001b[0m\n",
      "\u001b[0;31mImportError\u001b[0m: cannot import name 'Predictive' from 'pyro.infer' (/Users/raksh/anaconda3/lib/python3.7/site-packages/pyro/infer/__init__.py)"
     ]
    }
   ],
   "source": [
    "from __future__ import absolute_import, division, print_function\n",
    "\n",
    "import logging\n",
    "import os\n",
    "\n",
    "import matplotlib.pyplot as plt\n",
    "import numpy as np\n",
    "import pandas as pd\n",
    "import seaborn as sns\n",
    "from sklearn.metrics import mean_squared_error, accuracy_score\n",
    "\n",
    "import torch\n",
    "# from torch.distributions import constraints\n",
    "\n",
    "import pyro\n",
    "import pyro.distributions as dist\n",
    "from pyro.distributions import Normal, Uniform, Delta\n",
    "from pyro.infer import EmpiricalMarginal, SVI, Trace_ELBO, JitTrace_ELBO, TracePredictive\n",
    "from pyro.contrib.autoguide import AutoMultivariateNormal\n",
    "from pyro.infer.mcmc.api import MCMC\n",
    "from pyro.infer.mcmc import NUTS\n",
    "from pyro.infer.mcmc.util import diagnostics\n",
    "\n",
    "import pyro.optim as optim\n",
    "\n",
    "from sklearn.model_selection import train_test_split\n",
    "from sklearn.linear_model import LogisticRegression\n",
    "from sklearn.preprocessing import normalize\n",
    "from pyro.ops.stats import waic\n",
    "import numpy as np\n",
    "import matplotlib.mlab as mlab\n",
    "import matplotlib.pyplot as plt\n",
    "\n",
    "from copy import deepcopy\n",
    "from imblearn.under_sampling import RandomUnderSampler\n",
    "\n",
    "\n",
    "pyro.set_rng_seed(1)\n",
    "assert pyro.__version__.startswith('0.4.1')"
   ]
  },
  {
   "cell_type": "code",
   "execution_count": 55,
   "metadata": {},
   "outputs": [
    {
     "name": "stdout",
     "output_type": "stream",
     "text": [
      "Requirement already satisfied: imblearn in /Users/raksh/anaconda3/lib/python3.7/site-packages (0.0)\n",
      "Requirement already satisfied: imbalanced-learn in /Users/raksh/anaconda3/lib/python3.7/site-packages (from imblearn) (0.4.3)\n",
      "Requirement already satisfied: scikit-learn>=0.20 in /Users/raksh/anaconda3/lib/python3.7/site-packages (from imbalanced-learn->imblearn) (0.21.2)\n",
      "Requirement already satisfied: scipy>=0.13.3 in /Users/raksh/anaconda3/lib/python3.7/site-packages (from imbalanced-learn->imblearn) (1.3.0)\n",
      "Requirement already satisfied: numpy>=1.8.2 in /Users/raksh/anaconda3/lib/python3.7/site-packages (from imbalanced-learn->imblearn) (1.17.2)\n",
      "Requirement already satisfied: joblib>=0.11 in /Users/raksh/anaconda3/lib/python3.7/site-packages (from scikit-learn>=0.20->imbalanced-learn->imblearn) (0.13.2)\n"
     ]
    }
   ],
   "source": [
    "!pip install imblearn"
   ]
  },
  {
   "cell_type": "code",
   "execution_count": 6,
   "metadata": {},
   "outputs": [],
   "source": [
    "%matplotlib inline\n",
    "logging.basicConfig(format='%(message)s', level=logging.INFO)\n",
    "# Enable validation checks\n",
    "pyro.enable_validation(True)\n",
    "smoke_test = ('CI' in os.environ)\n",
    "pyro.set_rng_seed(1)"
   ]
  },
  {
   "cell_type": "code",
   "execution_count": 57,
   "metadata": {},
   "outputs": [],
   "source": [
    "data = pd.read_csv('data/crap.csv')"
   ]
  },
  {
   "cell_type": "code",
   "execution_count": 58,
   "metadata": {},
   "outputs": [],
   "source": [
    "data['target'] = data.apply(lambda row : row['FELONY'] + row['MISDEMEANOR'] + row['VIOLATION'], axis=1)"
   ]
  },
  {
   "cell_type": "code",
   "execution_count": 59,
   "metadata": {},
   "outputs": [],
   "source": [
    "data['target'] = data['target'].astype(int)"
   ]
  },
  {
   "cell_type": "code",
   "execution_count": 92,
   "metadata": {},
   "outputs": [],
   "source": [
    "def get_data(data, features, target):\n",
    "    df_X = data[features]\n",
    "    df_y = data[target]\n",
    "    \n",
    "    rus = RandomUnderSampler(random_state=42)\n",
    "    Xus, yus = rus.fit_resample(df_X, df_y)\n",
    "    \n",
    "    print(len(Xus),len(yus))\n",
    "    \n",
    "    X_train, X_test, y_train, y_test = train_test_split(Xus, yus, test_size=0.2)\n",
    "    # Train Data\n",
    "    X_np_train = normalize(np.array(X_train))\n",
    "    y_np_train = np.array(y_train)\n",
    "    \n",
    "\n",
    "    X_nuts_train = torch.from_numpy(X_np_train).type(torch.float32)\n",
    "    y_nuts_train = torch.from_numpy(y_np_train).type(torch.float32)\n",
    "\n",
    "   \n",
    "    #Test Data\n",
    "    X_np_test = normalize(np.array(X_test))\n",
    "    y_np_test = np.array(y_test)\n",
    "    \n",
    "    print(y_np_test.sum(), len(y_np_test)-y_np_test.sum())\n",
    "\n",
    "    X_nuts_test = torch.from_numpy(X_np_test).type(torch.float32)\n",
    "    y_nuts_test = torch.from_numpy(y_np_test).type(torch.float32)\n",
    "\n",
    "#     test_population =  torch.from_numpy(np.array(X_test['TotalPop'])).type(torch.float32)\n",
    "    return X_nuts_train, y_nuts_train, population, X_nuts_test, y_nuts_test, test_population\n"
   ]
  },
  {
   "cell_type": "code",
   "execution_count": 93,
   "metadata": {},
   "outputs": [],
   "source": [
    "bool_split = 3\n",
    "offset = 3"
   ]
  },
  {
   "cell_type": "code",
   "execution_count": 94,
   "metadata": {},
   "outputs": [],
   "source": [
    "def sep_data(row):\n",
    "    if row['target'] >= bool_split + offset :\n",
    "        return 1\n",
    "    elif row['target'] <= bool_split - offset :\n",
    "        return 0\n",
    "    else:\n",
    "        return float('nan')"
   ]
  },
  {
   "cell_type": "code",
   "execution_count": 95,
   "metadata": {},
   "outputs": [
    {
     "data": {
      "text/plain": [
       "Index(['Unnamed: 0', 'month', 'CensusTract', 'TotalPop', 'Income', 'IncomeErr',\n",
       "       'IncomePerCap', 'IncomePerCapErr', 'Poverty', 'ChildPoverty',\n",
       "       'Professional', 'Service', 'Office', 'Construction', 'Production',\n",
       "       'WorkAtHome', 'MeanCommute', 'Employed', 'PrivateWork', 'PublicWork',\n",
       "       'SelfEmployed', 'FamilyWork', 'Unemployment', 'FELONY', 'MISDEMEANOR',\n",
       "       'VIOLATION', 'restaurants', 'bar', 'park', 'subway_station', 'target'],\n",
       "      dtype='object')"
      ]
     },
     "execution_count": 95,
     "metadata": {},
     "output_type": "execute_result"
    }
   ],
   "source": [
    "data.columns"
   ]
  },
  {
   "cell_type": "code",
   "execution_count": 96,
   "metadata": {},
   "outputs": [],
   "source": [
    "features = ['TotalPop', 'Income', 'IncomeErr',\n",
    "       'IncomePerCap', 'IncomePerCapErr', 'Poverty', 'ChildPoverty',\n",
    "       'Professional', 'Service', 'Office', 'Construction', 'Production',\n",
    "       'WorkAtHome', 'MeanCommute', 'Employed', 'PrivateWork', 'PublicWork',\n",
    "       'SelfEmployed', 'FamilyWork', 'Unemployment','restaurants', 'bar', 'park', 'subway_station']\n",
    "target = 'binary_target'            "
   ]
  },
  {
   "cell_type": "code",
   "execution_count": null,
   "metadata": {},
   "outputs": [],
   "source": [
    "# for bool_split in range(2,10):\n",
    "#     for offset in range(1,5):\n",
    "\n",
    "bool_split = 5\n",
    "offset = 2\n",
    "\n",
    "for bool_split in range(2,20):\n",
    "    for offset in range(1,10):\n",
    "        if bool_split - offset <= 0:\n",
    "            continue\n",
    "        print(bool_split, offset)\n",
    "        data_new = deepcopy(data)\n",
    "        data_new['binary_target'] = data_new.apply(sep_data, axis=1)\n",
    "        data_new = data_new.dropna()\n",
    "#         print(len(data_new[data_new['binary_target']==0]), len(data_new[data_new['binary_target']==1]))\n",
    "        if (len(data_new[data_new['binary_target']==0]) == 0) or (len(data_new[data_new['binary_target']==1]) == 0):\n",
    "            print('-'*30)\n",
    "            continue\n",
    "        X_nuts_train, y_nuts_train, population, X_nuts_test, y_nuts_test, test_population = get_data(data_new, features, target)\n",
    "        reg = LogisticRegression(C=0.8).fit(X_nuts_train, y_nuts_train)\n",
    "        print('Train Score : ',reg.score(X_nuts_train, y_nuts_train))\n",
    "        print('Test Score :', reg.score(X_nuts_test, y_nuts_test))\n",
    "        print('-'*30)\n",
    "\n",
    "        "
   ]
  },
  {
   "cell_type": "markdown",
   "metadata": {},
   "source": [
    "# SVI"
   ]
  },
  {
   "cell_type": "code",
   "execution_count": 98,
   "metadata": {},
   "outputs": [
    {
     "name": "stdout",
     "output_type": "stream",
     "text": [
      "1598 1598\n",
      "149.0 171.0\n"
     ]
    }
   ],
   "source": [
    "bool_split = 9\n",
    "offset = 5\n",
    "\n",
    "\n",
    "data_new = deepcopy(data)\n",
    "data_new['binary_target'] = data_new.apply(sep_data, axis=1)\n",
    "data_new = data_new.dropna()\n",
    "X_nuts_train, y_nuts_train, population, X_nuts_test, y_nuts_test, test_population = get_data(data_new, features, target)\n"
   ]
  },
  {
   "cell_type": "code",
   "execution_count": 107,
   "metadata": {},
   "outputs": [],
   "source": [
    "from __future__ import absolute_import, division, print_function\n",
    "\n",
    "import logging\n",
    "import os\n",
    "\n",
    "import matplotlib.pyplot as plt\n",
    "import numpy as np\n",
    "import pandas as pd\n",
    "import seaborn as sns\n",
    "from sklearn.metrics import mean_squared_error, accuracy_score\n",
    "\n",
    "import torch\n",
    "# from torch.distributions import constraints\n",
    "\n",
    "import pyro\n",
    "import pyro.distributions as dist\n",
    "from pyro.distributions import Normal, Uniform, Delta\n",
    "from pyro.infer import EmpiricalMarginal, SVI, Trace_ELBO, JitTrace_ELBO, TracePredictive\n",
    "from pyro.contrib.autoguide import AutoMultivariateNormal\n",
    "from pyro.infer.mcmc.api import MCMC\n",
    "from pyro.infer.mcmc import NUTS\n",
    "from pyro.infer.mcmc.util import diagnostics\n",
    "import pyro.optim as optim\n",
    "\n",
    "from sklearn.model_selection import train_test_split\n",
    "from sklearn.preprocessing import normalize\n",
    "from pyro.ops.stats import waic\n",
    "import numpy as np\n",
    "import matplotlib.mlab as mlab\n",
    "import matplotlib.pyplot as plt\n",
    "\n",
    "from copy import deepcopy\n",
    "\n",
    "from torch.distributions import constraints\n",
    "from pyro.infer.autoguide.initialization import init_to_mean\n",
    "\n",
    "from sklearn.metrics import accuracy_score\n",
    "\n",
    "\n",
    "pyro.set_rng_seed(1)\n",
    "assert pyro.__version__.startswith('0.4.1')"
   ]
  },
  {
   "cell_type": "code",
   "execution_count": 159,
   "metadata": {},
   "outputs": [],
   "source": [
    "def model(data_x, data_y, D):\n",
    "    beta = []\n",
    "    for i in range(D+1):\n",
    "        beta.append(pyro.sample(\"beta\"+str(i), dist.Normal(0., 100)))\n",
    "            \n",
    "    logit = beta[0]\n",
    "    for i in range(D):\n",
    "        logit = logit + beta[i+1]*data_x[:,i]\n",
    "    \n",
    "    \n",
    "    p = 1. / (1 + torch.exp(-logit))\n",
    "\n",
    "    with pyro.plate(\"data\", len(data_x)):\n",
    "        y = pyro.sample(\"obs\",dist.Bernoulli(p), obs=data_y)\n",
    "    \n",
    "    return p \n",
    "\n",
    "\n",
    "def guide(data_x, data_y, D):\n",
    "    \n",
    "    mu_i = []\n",
    "    sigma_i = []\n",
    "    for i in range(D+1):\n",
    "        mu_i.append(pyro.param('mu_i'+str(i),torch.tensor(0.),constraint = constraints.real))\n",
    "        sigma_i.append(pyro.param('sigma_i'+str(i),torch.tensor(1.), constraint = constraints.positive))\n",
    "        \n",
    "#     mu_sd_u_lower = pyro.param('mu_sd_u_lower',torch.tensor(0.),constraint = constraints.real)\n",
    "#     mu_sd_u_upper = pyro.param('mu_sd_u_upper',torch.tensor(100.),constraint = constraints.positive)\n",
    "    \n",
    "#     mu_u_i = pyro.param('mu_u_i',torch.tensor(0.),constraint = constraints.real)\n",
    "    \n",
    "    \n",
    "    beta = []\n",
    "    for i in range(D+1):\n",
    "        beta.append(pyro.sample(\"beta\"+str(i), dist.Normal(mu_i[i], sigma_i[i])))\n",
    "        \n",
    "#     sd_u = pyro.sample(\"sd_u\",dist.Uniform(mu_sd_u_lower, mu_sd_u_upper))\n",
    "\n",
    "    logit = beta[0]\n",
    "    for i in range(D):\n",
    "        logit = logit + beta[i+1]*data_x[:,i]\n",
    "    \n",
    "    \n",
    "#     sigma2_ui = 1/(sd_u**2) \n",
    "#     u_i = pyro.sample(\"u_i\",dist.Normal(mu_u_i, sigma2_ui))\n",
    "#     logit += u_i\n",
    "    \n",
    "    p = 1. / (1 + torch.exp(-logit))\n"
   ]
  },
  {
   "cell_type": "code",
   "execution_count": 115,
   "metadata": {},
   "outputs": [
    {
     "name": "stderr",
     "output_type": "stream",
     "text": [
      "Elbo loss: 1017.8393585085869\n",
      "Elbo loss: 1146.6577889323235\n",
      "Elbo loss: 1273.625773012638\n",
      "Elbo loss: 1085.4851356744766\n",
      "Elbo loss: 903.9561595320702\n",
      "Elbo loss: 915.7168127894402\n",
      "Elbo loss: 937.2151150107384\n",
      "Elbo loss: 1001.1472007036209\n",
      "Elbo loss: 927.4754234552383\n",
      "Elbo loss: 996.5049903988838\n",
      "Elbo loss: 900.8946050405502\n",
      "Elbo loss: 862.5302802324295\n",
      "Elbo loss: 884.2530184388161\n",
      "Elbo loss: 868.5806066393852\n",
      "Elbo loss: 883.8483117222786\n",
      "Elbo loss: 882.0793562531471\n",
      "Elbo loss: 849.2443605065346\n",
      "Elbo loss: 846.2166477441788\n",
      "Elbo loss: 812.1207805871964\n",
      "Elbo loss: 812.6238313019276\n",
      "Elbo loss: 791.1523022055626\n",
      "Elbo loss: 770.9903781414032\n",
      "Elbo loss: 788.0937814116478\n",
      "Elbo loss: 749.376221626997\n",
      "Elbo loss: 781.5419896841049\n",
      "Elbo loss: 767.0750800967216\n",
      "Elbo loss: 781.1891438364983\n",
      "Elbo loss: 773.4880146980286\n",
      "Elbo loss: 740.1199125647545\n",
      "Elbo loss: 772.5911191701889\n",
      "Elbo loss: 737.6904004216194\n",
      "Elbo loss: 751.262405872345\n",
      "Elbo loss: 765.7813155651093\n",
      "Elbo loss: 733.7054207324982\n",
      "Elbo loss: 728.8897726535797\n",
      "Elbo loss: 715.6042494177818\n",
      "Elbo loss: 718.2049401402473\n",
      "Elbo loss: 716.2902337312698\n",
      "Elbo loss: 700.5200774073601\n",
      "Elbo loss: 710.2559123635292\n",
      "Elbo loss: 695.2685695886612\n",
      "Elbo loss: 686.1624689102173\n",
      "Elbo loss: 697.9460835456848\n",
      "Elbo loss: 698.8007704019547\n",
      "Elbo loss: 685.7577294111252\n",
      "Elbo loss: 692.5892959237099\n",
      "Elbo loss: 695.043547809124\n",
      "Elbo loss: 693.0079478621483\n",
      "Elbo loss: 681.6616251468658\n",
      "Elbo loss: 682.7298681139946\n",
      "Elbo loss: 697.7009211778641\n",
      "Elbo loss: 689.1690149307251\n",
      "Elbo loss: 686.688353896141\n",
      "Elbo loss: 692.8328189253807\n",
      "Elbo loss: 677.7897309064865\n",
      "Elbo loss: 684.6899556517601\n",
      "Elbo loss: 680.5761675834656\n",
      "Elbo loss: 676.0469869971275\n",
      "Elbo loss: 666.314212501049\n",
      "Elbo loss: 680.9045739769936\n",
      "Elbo loss: 665.883926987648\n",
      "Elbo loss: 684.8934628367424\n",
      "Elbo loss: 664.6652058959007\n",
      "Elbo loss: 672.5054211318493\n",
      "Elbo loss: 675.2036962509155\n",
      "Elbo loss: 662.9198316931725\n",
      "Elbo loss: 668.8554630279541\n",
      "Elbo loss: 669.4657102823257\n",
      "Elbo loss: 672.9250667095184\n",
      "Elbo loss: 678.2120577096939\n",
      "Elbo loss: 670.6376614868641\n",
      "Elbo loss: 672.561820089817\n",
      "Elbo loss: 661.4946807026863\n",
      "Elbo loss: 666.621710985899\n",
      "Elbo loss: 669.4145486354828\n",
      "Elbo loss: 670.1614510416985\n",
      "Elbo loss: 656.1515198349953\n",
      "Elbo loss: 655.0443452596664\n",
      "Elbo loss: 673.7984986305237\n",
      "Elbo loss: 675.7614021897316\n",
      "Elbo loss: 670.0213697552681\n",
      "Elbo loss: 666.1352555155754\n",
      "Elbo loss: 661.8432837128639\n",
      "Elbo loss: 663.6963938474655\n",
      "Elbo loss: 701.1114844083786\n",
      "Elbo loss: 665.498227596283\n",
      "Elbo loss: 661.4609586596489\n",
      "Elbo loss: 659.5106375813484\n",
      "Elbo loss: 656.521878182888\n",
      "Elbo loss: 655.4846673607826\n",
      "Elbo loss: 660.8737610578537\n",
      "Elbo loss: 659.5202268362045\n",
      "Elbo loss: 667.3029447793961\n",
      "Elbo loss: 662.0729093551636\n",
      "Elbo loss: 662.6393513083458\n",
      "Elbo loss: 663.2070161104202\n",
      "Elbo loss: 657.9883350133896\n",
      "Elbo loss: 662.7163000106812\n",
      "Elbo loss: 679.6840918660164\n",
      "Elbo loss: 655.5200857520103\n",
      "Elbo loss: 654.765222787857\n",
      "Elbo loss: 666.2440733909607\n",
      "Elbo loss: 659.2171007394791\n",
      "Elbo loss: 668.7175939083099\n",
      "Elbo loss: 652.7138497829437\n",
      "Elbo loss: 654.4220590591431\n",
      "Elbo loss: 653.587362408638\n",
      "Elbo loss: 664.3870273828506\n",
      "Elbo loss: 667.3266170620918\n",
      "Elbo loss: 657.8018277287483\n",
      "Elbo loss: 652.7680043578148\n",
      "Elbo loss: 648.0480319857597\n",
      "Elbo loss: 657.6587827801704\n",
      "Elbo loss: 655.0472185015678\n",
      "Elbo loss: 667.2731021046638\n",
      "Elbo loss: 663.3616113066673\n",
      "Elbo loss: 654.2596184015274\n",
      "Elbo loss: 667.9958528280258\n",
      "Elbo loss: 652.9891564846039\n",
      "Elbo loss: 660.4339477419853\n",
      "Elbo loss: 661.5320994853973\n",
      "Elbo loss: 663.160567343235\n",
      "Elbo loss: 660.5305185317993\n",
      "Elbo loss: 692.2211102247238\n",
      "Elbo loss: 658.393689095974\n",
      "Elbo loss: 660.9959780573845\n",
      "Elbo loss: 653.4738299250603\n",
      "Elbo loss: 652.7588853240013\n",
      "Elbo loss: 651.2197933495045\n",
      "Elbo loss: 669.6687164306641\n",
      "Elbo loss: 663.2023341059685\n",
      "Elbo loss: 649.3956437110901\n",
      "Elbo loss: 666.1880339384079\n",
      "Elbo loss: 654.7265731692314\n",
      "Elbo loss: 660.9495362639427\n",
      "Elbo loss: 649.1342002749443\n",
      "Elbo loss: 658.8216600418091\n",
      "Elbo loss: 683.3962324261665\n",
      "Elbo loss: 648.3007228970528\n",
      "Elbo loss: 666.7477999925613\n",
      "Elbo loss: 649.7682952284813\n",
      "Elbo loss: 664.3008229136467\n",
      "Elbo loss: 655.5187803506851\n",
      "Elbo loss: 653.5405524373055\n",
      "Elbo loss: 650.0114893913269\n",
      "Elbo loss: 656.195629298687\n",
      "Elbo loss: 651.871744632721\n",
      "Elbo loss: 653.7014862895012\n",
      "Elbo loss: 653.2988702058792\n",
      "Elbo loss: 656.5591645240784\n",
      "Elbo loss: 686.8865125179291\n",
      "Elbo loss: 645.893176317215\n",
      "Elbo loss: 656.4847011566162\n",
      "Elbo loss: 663.0590093135834\n",
      "Elbo loss: 648.9299756884575\n",
      "Elbo loss: 663.1250602006912\n",
      "Elbo loss: 662.7063724398613\n",
      "Elbo loss: 659.7699964642525\n",
      "Elbo loss: 658.0226294994354\n",
      "Elbo loss: 661.1544153094292\n",
      "Elbo loss: 648.285679936409\n",
      "Elbo loss: 662.6448751091957\n",
      "Elbo loss: 654.673664689064\n",
      "Elbo loss: 654.9795275330544\n",
      "Elbo loss: 653.6622951030731\n",
      "Elbo loss: 655.2001540064812\n",
      "Elbo loss: 657.7799381017685\n",
      "Elbo loss: 657.467694580555\n",
      "Elbo loss: 654.3296350240707\n",
      "Elbo loss: 659.4352331161499\n",
      "Elbo loss: 659.4423751235008\n",
      "Elbo loss: 650.0647847056389\n",
      "Elbo loss: 651.207392334938\n",
      "Elbo loss: 669.9419827461243\n",
      "Elbo loss: 673.710109770298\n",
      "Elbo loss: 651.1489228010178\n",
      "Elbo loss: 651.3133195638657\n",
      "Elbo loss: 658.488339394331\n",
      "Elbo loss: 645.0229845046997\n",
      "Elbo loss: 643.1997789740562\n",
      "Elbo loss: 662.8792538642883\n",
      "Elbo loss: 651.2671650052071\n",
      "Elbo loss: 656.0771511793137\n",
      "Elbo loss: 665.7506827116013\n",
      "Elbo loss: 655.4463824033737\n",
      "Elbo loss: 657.3914884924889\n",
      "Elbo loss: 650.8544708490372\n",
      "Elbo loss: 660.1690569519997\n",
      "Elbo loss: 654.4861568808556\n",
      "Elbo loss: 645.4436802864075\n",
      "Elbo loss: 653.8084354996681\n",
      "Elbo loss: 658.1377038955688\n",
      "Elbo loss: 655.8851259946823\n",
      "Elbo loss: 663.7641599178314\n",
      "Elbo loss: 645.8475670218468\n",
      "Elbo loss: 660.811551451683\n",
      "Elbo loss: 654.1453093290329\n",
      "Elbo loss: 655.4430173635483\n",
      "Elbo loss: 657.5588665008545\n",
      "Elbo loss: 648.3496134281158\n"
     ]
    }
   ],
   "source": [
    "svi = SVI(model, \n",
    "          guide, \n",
    "          optim.Adam({\"lr\": .0005}), \n",
    "          loss=Trace_ELBO(), \n",
    "          num_samples=20000)\n",
    "\n",
    "pyro.clear_param_store()\n",
    "elbo_arr = []\n",
    "for i in range(100000):\n",
    "    elbo = svi.step(X_nuts_train, y_nuts_train, X_nuts_train.shape[1])\n",
    "    elbo_arr.append(elbo)\n",
    "    if i % 500 == 0:\n",
    "        logging.info(\"Elbo loss: {}\".format(elbo))"
   ]
  },
  {
   "cell_type": "code",
   "execution_count": 116,
   "metadata": {},
   "outputs": [
    {
     "data": {
      "text/plain": [
       "[<matplotlib.lines.Line2D at 0x139a32a90>]"
      ]
     },
     "execution_count": 116,
     "metadata": {},
     "output_type": "execute_result"
    },
    {
     "data": {
      "image/png": "[encoded data removed]",
      "text/plain": [
       "<Figure size 432x288 with 1 Axes>"
      ]
     },
     "metadata": {
      "needs_background": "light"
     },
     "output_type": "display_data"
    }
   ],
   "source": [
    "plt.plot(elbo_arr)"
   ]
  },
  {
   "cell_type": "code",
   "execution_count": 178,
   "metadata": {},
   "outputs": [],
   "source": [
    "def predict(x):\n",
    "    model_preds = []\n",
    "    for i in range(len(x)):\n",
    "        guide_trace = pyro.poutine.trace(guide).get_trace(x,None,x.shape[1])\n",
    "        replay_result = pyro.poutine.replay(model, guide_trace)(x,None,x.shape[1])\n",
    "        model_preds.append(replay_result.detach().numpy())\n",
    "    return model_preds"
   ]
  },
  {
   "cell_type": "code",
   "execution_count": 179,
   "metadata": {},
   "outputs": [
    {
     "name": "stdout",
     "output_type": "stream",
     "text": [
      "320\n"
     ]
    }
   ],
   "source": [
    "ypred = predict(X_nuts_test)\n",
    "# accuracy_score(ypred, y_nuts_test)\n",
    "print(len(ypred))"
   ]
  },
  {
   "cell_type": "code",
   "execution_count": 180,
   "metadata": {},
   "outputs": [
    {
     "data": {
      "text/plain": [
       "(320,)"
      ]
     },
     "execution_count": 180,
     "metadata": {},
     "output_type": "execute_result"
    }
   ],
   "source": [
    "ypred[0].shape"
   ]
  },
  {
   "cell_type": "code",
   "execution_count": 196,
   "metadata": {},
   "outputs": [],
   "source": [
    "preds = []\n",
    "for i in range(320):\n",
    "    preds.append(1 if ypred[i][i]>=0.5 else 0)\n",
    "acc = accuracy_score(preds,y_nuts_test)"
   ]
  },
  {
   "cell_type": "code",
   "execution_count": null,
   "metadata": {},
   "outputs": [],
   "source": []
  }
 ],
 "metadata": {
  "kernelspec": {
   "display_name": "Python 3",
   "language": "python",
   "name": "python3"
  },
  "language_info": {
   "codemirror_mode": {
    "name": "ipython",
    "version": 3
   },
   "file_extension": ".py",
   "mimetype": "text/x-python",
   "name": "python",
   "nbconvert_exporter": "python",
   "pygments_lexer": "ipython3",
   "version": "3.7.4"
  }
 },
 "nbformat": 4,
 "nbformat_minor": 4
}
