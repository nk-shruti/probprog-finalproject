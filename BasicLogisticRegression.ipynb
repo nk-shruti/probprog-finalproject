{
 "cells": [
  {
   "cell_type": "code",
   "execution_count": 87,
   "metadata": {},
   "outputs": [],
   "source": [
    "from __future__ import absolute_import, division, print_function\n",
    "\n",
    "import logging\n",
    "import os\n",
    "\n",
    "import matplotlib.pyplot as plt\n",
    "import numpy as np\n",
    "import pandas as pd\n",
    "import seaborn as sns\n",
    "from sklearn.metrics import mean_squared_error, accuracy_score\n",
    "\n",
    "import torch\n",
    "from torch.distributions import constraints\n",
    "\n",
    "import pyro\n",
    "import pyro.distributions as dist\n",
    "from pyro.distributions import Normal, Uniform, Delta\n",
    "from pyro.infer import EmpiricalMarginal, SVI, Trace_ELBO, JitTrace_ELBO, TracePredictive\n",
    "from pyro.contrib.autoguide import AutoMultivariateNormal\n",
    "from pyro.infer.mcmc.api import MCMC\n",
    "from pyro.infer.mcmc import NUTS\n",
    "from pyro.infer.mcmc.util import diagnostics\n",
    "\n",
    "import pyro.optim as optim\n",
    "\n",
    "from sklearn.model_selection import train_test_split\n",
    "from sklearn.linear_model import LogisticRegression\n",
    "from sklearn.preprocessing import normalize\n",
    "from pyro.ops.stats import waic\n",
    "import numpy as np\n",
    "import matplotlib.mlab as mlab\n",
    "import matplotlib.pyplot as plt\n",
    "\n",
    "from copy import deepcopy\n",
    "from imblearn.under_sampling import RandomUnderSampler\n",
    "import pickle\n",
    "\n",
    "pyro.set_rng_seed(1)\n",
    "assert pyro.__version__.startswith('0.4.1')"
   ]
  },
  {
   "cell_type": "code",
   "execution_count": 2,
   "metadata": {},
   "outputs": [
    {
     "name": "stdout",
     "output_type": "stream",
     "text": [
      "Requirement already satisfied: imblearn in /Users/raksh/anaconda3/lib/python3.7/site-packages (0.0)\n",
      "Requirement already satisfied: imbalanced-learn in /Users/raksh/anaconda3/lib/python3.7/site-packages (from imblearn) (0.4.3)\n",
      "Requirement already satisfied: scikit-learn>=0.20 in /Users/raksh/anaconda3/lib/python3.7/site-packages (from imbalanced-learn->imblearn) (0.21.2)\n",
      "Requirement already satisfied: scipy>=0.13.3 in /Users/raksh/anaconda3/lib/python3.7/site-packages (from imbalanced-learn->imblearn) (1.3.0)\n",
      "Requirement already satisfied: numpy>=1.8.2 in /Users/raksh/anaconda3/lib/python3.7/site-packages (from imbalanced-learn->imblearn) (1.17.2)\n",
      "Requirement already satisfied: joblib>=0.11 in /Users/raksh/anaconda3/lib/python3.7/site-packages (from scikit-learn>=0.20->imbalanced-learn->imblearn) (0.13.2)\n"
     ]
    }
   ],
   "source": [
    "!pip install imblearn"
   ]
  },
  {
   "cell_type": "code",
   "execution_count": 5,
   "metadata": {},
   "outputs": [],
   "source": [
    "%matplotlib inline\n",
    "logging.basicConfig(format='%(message)s', level=logging.INFO)\n",
    "# Enable validation checks\n",
    "pyro.enable_validation(True)\n",
    "smoke_test = ('CI' in os.environ)\n",
    "pyro.set_rng_seed(1)"
   ]
  },
  {
   "cell_type": "code",
   "execution_count": 6,
   "metadata": {},
   "outputs": [],
   "source": [
    "data = pd.read_csv('data/crap.csv')"
   ]
  },
  {
   "cell_type": "code",
   "execution_count": 7,
   "metadata": {},
   "outputs": [],
   "source": [
    "data['target'] = data.apply(lambda row : row['FELONY'] + row['MISDEMEANOR'] + row['VIOLATION'], axis=1)"
   ]
  },
  {
   "cell_type": "code",
   "execution_count": 8,
   "metadata": {},
   "outputs": [],
   "source": [
    "data['target'] = data['target'].astype(int)"
   ]
  },
  {
   "cell_type": "code",
   "execution_count": 9,
   "metadata": {},
   "outputs": [],
   "source": [
    "def get_data(data, features, target):\n",
    "    df_X = data[features]\n",
    "    df_y = data[target]\n",
    "    \n",
    "    rus = RandomUnderSampler(random_state=42)\n",
    "    Xus, yus = rus.fit_resample(df_X, df_y)\n",
    "    \n",
    "    print(len(Xus),len(yus))\n",
    "    \n",
    "    X_train, X_test, y_train, y_test = train_test_split(Xus, yus, test_size=0.2)\n",
    "    # Train Data\n",
    "    X_np_train = normalize(np.array(X_train))\n",
    "    y_np_train = np.array(y_train)\n",
    "    \n",
    "\n",
    "    X_nuts_train = torch.from_numpy(X_np_train).type(torch.float32)\n",
    "    y_nuts_train = torch.from_numpy(y_np_train).type(torch.float32)\n",
    "\n",
    "   \n",
    "    #Test Data\n",
    "    X_np_test = normalize(np.array(X_test))\n",
    "    y_np_test = np.array(y_test)\n",
    "    \n",
    "    print(y_np_test.sum(), len(y_np_test)-y_np_test.sum())\n",
    "\n",
    "    X_nuts_test = torch.from_numpy(X_np_test).type(torch.float32)\n",
    "    y_nuts_test = torch.from_numpy(y_np_test).type(torch.float32)\n",
    "\n",
    "#     test_population =  torch.from_numpy(np.array(X_test['TotalPop'])).type(torch.float32)\n",
    "    return X_nuts_train, y_nuts_train, X_nuts_test, y_nuts_test\n"
   ]
  },
  {
   "cell_type": "code",
   "execution_count": 10,
   "metadata": {},
   "outputs": [],
   "source": [
    "bool_split = 3\n",
    "offset = 3"
   ]
  },
  {
   "cell_type": "code",
   "execution_count": 11,
   "metadata": {},
   "outputs": [],
   "source": [
    "def sep_data(row):\n",
    "    if row['target'] >= bool_split + offset :\n",
    "        return 1\n",
    "    elif row['target'] <= bool_split - offset :\n",
    "        return 0\n",
    "    else:\n",
    "        return float('nan')"
   ]
  },
  {
   "cell_type": "code",
   "execution_count": 12,
   "metadata": {},
   "outputs": [
    {
     "data": {
      "text/plain": [
       "Index(['Unnamed: 0', 'month', 'CensusTract', 'TotalPop', 'Income', 'IncomeErr',\n",
       "       'IncomePerCap', 'IncomePerCapErr', 'Poverty', 'ChildPoverty',\n",
       "       'Professional', 'Service', 'Office', 'Construction', 'Production',\n",
       "       'WorkAtHome', 'MeanCommute', 'Employed', 'PrivateWork', 'PublicWork',\n",
       "       'SelfEmployed', 'FamilyWork', 'Unemployment', 'FELONY', 'MISDEMEANOR',\n",
       "       'VIOLATION', 'restaurants', 'bar', 'park', 'subway_station', 'target'],\n",
       "      dtype='object')"
      ]
     },
     "execution_count": 12,
     "metadata": {},
     "output_type": "execute_result"
    }
   ],
   "source": [
    "data.columns"
   ]
  },
  {
   "cell_type": "code",
   "execution_count": 13,
   "metadata": {},
   "outputs": [],
   "source": [
    "features = ['TotalPop', 'Income', 'IncomeErr',\n",
    "       'IncomePerCap', 'IncomePerCapErr', 'Poverty', 'ChildPoverty',\n",
    "       'Professional', 'Service', 'Office', 'Construction', 'Production',\n",
    "       'WorkAtHome', 'MeanCommute', 'Employed', 'PrivateWork', 'PublicWork',\n",
    "       'SelfEmployed', 'FamilyWork', 'Unemployment','restaurants', 'bar', 'park', 'subway_station']\n",
    "target = 'binary_target'            "
   ]
  },
  {
   "cell_type": "code",
   "execution_count": null,
   "metadata": {},
   "outputs": [],
   "source": [
    "# for bool_split in range(2,10):\n",
    "#     for offset in range(1,5):\n",
    "\n",
    "bool_split = 5\n",
    "offset = 2\n",
    "\n",
    "for bool_split in range(2,20):\n",
    "    for offset in range(1,10):\n",
    "        if bool_split - offset <= 0:\n",
    "            continue\n",
    "        print(bool_split, offset)\n",
    "        data_new = deepcopy(data)\n",
    "        data_new['binary_target'] = data_new.apply(sep_data, axis=1)\n",
    "        data_new = data_new.dropna()\n",
    "#         print(len(data_new[data_new['binary_target']==0]), len(data_new[data_new['binary_target']==1]))\n",
    "        if (len(data_new[data_new['binary_target']==0]) == 0) or (len(data_new[data_new['binary_target']==1]) == 0):\n",
    "            print('-'*30)\n",
    "            continue\n",
    "        X_nuts_train, y_nuts_train, X_nuts_test, y_nuts_test = get_data(data_new, features, target)\n",
    "        reg = LogisticRegression(C=0.8).fit(X_nuts_train, y_nuts_train)\n",
    "        print('Train Score : ',reg.score(X_nuts_train, y_nuts_train))\n",
    "        print('Test Score :', reg.score(X_nuts_test, y_nuts_test))\n",
    "        print('-'*30)\n",
    "\n",
    "        "
   ]
  },
  {
   "cell_type": "markdown",
   "metadata": {},
   "source": [
    "# SVI"
   ]
  },
  {
   "cell_type": "code",
   "execution_count": 15,
   "metadata": {},
   "outputs": [
    {
     "name": "stdout",
     "output_type": "stream",
     "text": [
      "1598 1598\n",
      "158.0 162.0\n"
     ]
    }
   ],
   "source": [
    "bool_split = 9\n",
    "offset = 5\n",
    "\n",
    "\n",
    "data_new = deepcopy(data)\n",
    "data_new['binary_target'] = data_new.apply(sep_data, axis=1)\n",
    "data_new = data_new.dropna()\n",
    "X_nuts_train, y_nuts_train, X_nuts_test, y_nuts_test = get_data(data_new, features, target)\n"
   ]
  },
  {
   "cell_type": "code",
   "execution_count": 1,
   "metadata": {},
   "outputs": [],
   "source": [
    "from __future__ import absolute_import, division, print_function\n",
    "\n",
    "import logging\n",
    "import os\n",
    "\n",
    "import matplotlib.pyplot as plt\n",
    "import numpy as np\n",
    "import pandas as pd\n",
    "import seaborn as sns\n",
    "from sklearn.metrics import mean_squared_error, accuracy_score\n",
    "\n",
    "import torch\n",
    "# from torch.distributions import constraints\n",
    "\n",
    "import pyro\n",
    "import pyro.distributions as dist\n",
    "from pyro.distributions import Normal, Uniform, Delta\n",
    "from pyro.infer import EmpiricalMarginal, SVI, Trace_ELBO, JitTrace_ELBO, TracePredictive\n",
    "from pyro.contrib.autoguide import AutoMultivariateNormal\n",
    "from pyro.infer.mcmc.api import MCMC\n",
    "from pyro.infer.mcmc import NUTS\n",
    "from pyro.infer.mcmc.util import diagnostics\n",
    "import pyro.optim as optim\n",
    "\n",
    "from sklearn.model_selection import train_test_split\n",
    "from sklearn.preprocessing import normalize\n",
    "from pyro.ops.stats import waic\n",
    "import numpy as np\n",
    "import matplotlib.mlab as mlab\n",
    "import matplotlib.pyplot as plt\n",
    "\n",
    "from copy import deepcopy\n",
    "\n",
    "from torch.distributions import constraints\n",
    "from pyro.infer.autoguide.initialization import init_to_mean\n",
    "\n",
    "from sklearn.metrics import accuracy_score\n",
    "\n",
    "\n",
    "pyro.set_rng_seed(1)\n",
    "assert pyro.__version__.startswith('0.4.1')"
   ]
  },
  {
   "cell_type": "code",
   "execution_count": 47,
   "metadata": {},
   "outputs": [],
   "source": [
    "def model_1(data_x, data_y, D):\n",
    "    beta = []\n",
    "    for i in range(D+1):\n",
    "        beta.append(pyro.sample(\"beta\"+str(i), dist.Normal(0., 1.)))\n",
    "            \n",
    "    logit = beta[0]\n",
    "    for i in range(D):\n",
    "        logit = logit + beta[i+1]*data_x[:,i]\n",
    "    \n",
    "    \n",
    "    p = 1. / (1 + torch.exp(-logit))\n",
    "\n",
    "    with pyro.plate(\"data\", len(data_x)):\n",
    "        y = pyro.sample(\"obs\",dist.Bernoulli(p), obs=data_y)\n",
    "    \n",
    "    return p \n",
    "\n",
    "\n",
    "def guide_1(data_x, data_y, D):\n",
    "    \n",
    "    mu_i = []\n",
    "    sigma_i = []\n",
    "    for i in range(D+1):\n",
    "        mu_i.append(pyro.param('mu_i'+str(i),torch.tensor(0.),constraint = constraints.real))\n",
    "        sigma_i.append(pyro.param('sigma_i'+str(i),torch.tensor(1.), constraint = constraints.positive))\n",
    "    \n",
    "    \n",
    "    beta = []\n",
    "    for i in range(D+1):\n",
    "        beta.append(pyro.sample(\"beta\"+str(i), dist.Normal(mu_i[i], sigma_i[i])))\n",
    "        \n",
    "\n",
    "    logit = beta[0]\n",
    "    for i in range(D):\n",
    "        logit = logit + beta[i+1]*data_x[:,i]\n",
    "\n",
    "    \n",
    "    p = 1. / (1 + torch.exp(-logit))\n"
   ]
  },
  {
   "cell_type": "code",
   "execution_count": 48,
   "metadata": {},
   "outputs": [
    {
     "name": "stderr",
     "output_type": "stream",
     "text": [
      "Elbo loss: 947.0158081054688\n",
      "Elbo loss: 728.0423904657364\n",
      "Elbo loss: 713.1913037896156\n",
      "Elbo loss: 711.739469319582\n",
      "Elbo loss: 716.0943340063095\n",
      "Elbo loss: 709.0993185043335\n",
      "Elbo loss: 715.4851067662239\n",
      "Elbo loss: 713.6819304227829\n",
      "Elbo loss: 716.345874607563\n",
      "Elbo loss: 711.9123081564903\n"
     ]
    }
   ],
   "source": [
    "svi = SVI(model_1, \n",
    "          guide_1, \n",
    "          optim.Adam({\"lr\": 5e-2}), \n",
    "          loss=Trace_ELBO(), \n",
    "          num_samples=2000)\n",
    "\n",
    "pyro.clear_param_store()\n",
    "elbo_arr_1 = []\n",
    "for i in range(5000):\n",
    "    elbo = svi.step(X_nuts_train, y_nuts_train, X_nuts_train.shape[1])\n",
    "    elbo_arr_1.append(elbo)\n",
    "    if i % 500 == 0:\n",
    "        logging.info(\"Elbo loss: {}\".format(elbo))"
   ]
  },
  {
   "cell_type": "code",
   "execution_count": 49,
   "metadata": {},
   "outputs": [
    {
     "data": {
      "text/plain": [
       "[<matplotlib.lines.Line2D at 0x13e57a990>]"
      ]
     },
     "execution_count": 49,
     "metadata": {},
     "output_type": "execute_result"
    },
    {
     "data": {
      "image/png": "[encoded data removed]",
      "text/plain": [
       "<Figure size 432x288 with 1 Axes>"
      ]
     },
     "metadata": {
      "needs_background": "light"
     },
     "output_type": "display_data"
    }
   ],
   "source": [
    "plt.plot(elbo_arr_1)"
   ]
  },
  {
   "cell_type": "code",
   "execution_count": 50,
   "metadata": {},
   "outputs": [],
   "source": [
    "def predict(x):\n",
    "    model_preds = []\n",
    "    for i in range(len(x)):\n",
    "        guide_trace = pyro.poutine.trace(guide).get_trace(x,None,x.shape[1])\n",
    "        replay_result = pyro.poutine.replay(model, guide_trace)(x,None,x.shape[1])\n",
    "        model_preds.append(replay_result.detach().numpy())\n",
    "    return model_preds"
   ]
  },
  {
   "cell_type": "code",
   "execution_count": 51,
   "metadata": {},
   "outputs": [],
   "source": [
    "ypred_1 = predict(X_nuts_test)\n",
    "# accuracy_score(ypred, y_nuts_test)\n"
   ]
  },
  {
   "cell_type": "code",
   "execution_count": 60,
   "metadata": {},
   "outputs": [],
   "source": [
    "preds_1 = []\n",
    "for i in range(320):\n",
    "    preds_1.append(1 if ypred_1[i][i]>=0.5 else 0)\n",
    "acc = accuracy_score(preds_1,y_nuts_test)"
   ]
  },
  {
   "cell_type": "code",
   "execution_count": 61,
   "metadata": {},
   "outputs": [
    {
     "data": {
      "text/plain": [
       "0.725"
      ]
     },
     "execution_count": 61,
     "metadata": {},
     "output_type": "execute_result"
    }
   ],
   "source": [
    "acc"
   ]
  },
  {
   "cell_type": "code",
   "execution_count": 62,
   "metadata": {},
   "outputs": [
    {
     "data": {
      "text/plain": [
       "0.771875"
      ]
     },
     "execution_count": 62,
     "metadata": {},
     "output_type": "execute_result"
    }
   ],
   "source": [
    "p = ypred_1\n",
    "for i in range(len(p)):\n",
    "    for j in range(len(p[0])):\n",
    "        p[i][j] = 0 if p[i][j] < 0.5 else 1\n",
    "preds_1 = np.sum(p, axis=0)\n",
    "test_size = len(p[0])\n",
    "preds_1 = [p >= test_size/2 for p in preds_1]\n",
    "accuracy_score(preds_1, y_nuts_test)\n"
   ]
  },
  {
   "cell_type": "code",
   "execution_count": null,
   "metadata": {},
   "outputs": [],
   "source": []
  },
  {
   "cell_type": "markdown",
   "metadata": {},
   "source": [
    "## Model 2"
   ]
  },
  {
   "cell_type": "code",
   "execution_count": 40,
   "metadata": {},
   "outputs": [],
   "source": [
    "def model_2(data_x, data_y, D):\n",
    "    \n",
    "    beta = []\n",
    "    for i in range(D+1):\n",
    "        beta.append(pyro.sample(\"beta\"+str(i), dist.Normal(0., 1.)))\n",
    "        \n",
    "    sd_u = pyro.sample(\"sd_u\",dist.Gamma(0.1,0.1))\n",
    "    \n",
    "    logit = beta[0]\n",
    "    for i in range(D):\n",
    "        logit = logit + beta[i+1]*data_x[:,i]\n",
    "    \n",
    "    \n",
    "    sigma2_ui = 1/(sd_u**2) \n",
    "    u_i = pyro.sample(\"u_i\",dist.Normal(0., sigma2_ui))\n",
    "    logit += u_i\n",
    "    \n",
    "    p = 1. / (1 + torch.exp(-logit))\n",
    "\n",
    "    with pyro.plate(\"data\", len(data_x)):\n",
    "        y = pyro.sample(\"obs\",dist.Bernoulli(p), obs=data_y)\n",
    "    \n",
    "    return p\n",
    "\n",
    "\n",
    "def guide_2(data_x, data_y, D):\n",
    "    \n",
    "    mu_i = []\n",
    "    sigma_i = []\n",
    "    for i in range(D+1):\n",
    "        mu_i.append(pyro.param('mu_i'+str(i),torch.tensor(0.),constraint = constraints.real))\n",
    "        sigma_i.append(pyro.param('sigma_i'+str(i),torch.tensor(1.), constraint = constraints.positive))\n",
    "    \n",
    "    beta = []\n",
    "    for i in range(D+1):\n",
    "#         print(mu_i[i],sigma_i[i])\n",
    "        beta.append(pyro.sample(\"beta\"+str(i), dist.Normal(mu_i[i], sigma_i[i])))     \n",
    "\n",
    "    logit = beta[0]\n",
    "    for i in range(D):\n",
    "        logit = logit + beta[i+1]*data_x[:,i]\n",
    "    \n",
    "    alpha_gamma = pyro.param('alpha_gamma',torch.tensor(0.1).type(torch.float32),constraint = constraints.positive)\n",
    "    beta_gamma = pyro.param('beta_gamma',torch.tensor(0.1).type(torch.float32),constraint = constraints.positive)\n",
    "      \n",
    "    sd_u = min(pyro.sample(\"sd_u\",dist.Gamma(alpha_gamma, beta_gamma)),500)\n",
    "    sigma2_ui = 1/((sd_u+1)**2) \n",
    "#     print('sigma : ',sigma2_ui)\n",
    "    u_i = pyro.sample(\"u_i\",dist.Normal(0., sigma2_ui))\n",
    "    \n",
    "    \n",
    "    logit += u_i\n",
    "    \n",
    "    p = 1. / (1 + torch.exp(-logit))\n",
    "    \n",
    "    return p\n"
   ]
  },
  {
   "cell_type": "code",
   "execution_count": 41,
   "metadata": {},
   "outputs": [
    {
     "name": "stdout",
     "output_type": "stream",
     "text": [
      "1598 1598\n",
      "175.0 145.0\n",
      "Elbo loss: 1329.345274925232\n",
      "Elbo loss: 728.8950216770172\n",
      "Elbo loss: 716.2777455449104\n",
      "Elbo loss: 716.1204393208027\n",
      "Elbo loss: 716.7133545875549\n",
      "Elbo loss: 713.796742618084\n",
      "Elbo loss: 721.302995622158\n",
      "Elbo loss: 717.756269454956\n",
      "Elbo loss: 726.9531638622284\n",
      "Elbo loss: 717.47631290555\n"
     ]
    }
   ],
   "source": [
    "bool_split = 9\n",
    "offset = 5\n",
    "\n",
    "\n",
    "data_new = deepcopy(data)\n",
    "data_new['binary_target'] = data_new.apply(sep_data, axis=1)\n",
    "data_new = data_new.dropna()\n",
    "X_nuts_train, y_nuts_train, X_nuts_test, y_nuts_test = get_data(data_new, features, target)\n",
    "\n",
    "pyro.clear_param_store()\n",
    "svi = SVI(model_2, \n",
    "          guide_2, \n",
    "          optim.Adam({\"lr\": 5e-2}), \n",
    "          loss=Trace_ELBO(), \n",
    "          num_samples=20000)\n",
    "\n",
    "pyro.clear_param_store()\n",
    "elbo_arr_2 = []\n",
    "for i in range(5000):\n",
    "    elbo = svi.step(X_nuts_train, y_nuts_train, X_nuts_train.shape[1])\n",
    "    elbo_arr_2.append(elbo)\n",
    "    if i % 500 == 0:\n",
    "        print(\"Elbo loss: {}\".format(elbo))"
   ]
  },
  {
   "cell_type": "code",
   "execution_count": 42,
   "metadata": {},
   "outputs": [
    {
     "data": {
      "text/plain": [
       "[<matplotlib.lines.Line2D at 0x13e814dd0>]"
      ]
     },
     "execution_count": 42,
     "metadata": {},
     "output_type": "execute_result"
    },
    {
     "data": {
      "image/png": "[encoded data removed]",
      "text/plain": [
       "<Figure size 432x288 with 1 Axes>"
      ]
     },
     "metadata": {
      "needs_background": "light"
     },
     "output_type": "display_data"
    }
   ],
   "source": [
    "plt.plot(elbo_arr_2)"
   ]
  },
  {
   "cell_type": "code",
   "execution_count": 43,
   "metadata": {},
   "outputs": [
    {
     "name": "stdout",
     "output_type": "stream",
     "text": [
      "320\n",
      "0.734375\n"
     ]
    }
   ],
   "source": [
    "ypred_model_2 = predict(X_nuts_test)\n",
    "# accuracy_score(ypred, y_nuts_test)\n",
    "print(len(ypred_model_2))\n",
    "\n",
    "preds = []\n",
    "for i in range(320):\n",
    "    preds.append(1 if ypred_model_2[i][i]>=0.5 else 0)\n",
    "acc = accuracy_score(preds,y_nuts_test)\n",
    "\n",
    "print(acc)"
   ]
  },
  {
   "cell_type": "code",
   "execution_count": 45,
   "metadata": {},
   "outputs": [
    {
     "data": {
      "text/plain": [
       "0.759375"
      ]
     },
     "execution_count": 45,
     "metadata": {},
     "output_type": "execute_result"
    }
   ],
   "source": [
    "p = ypred_model_2\n",
    "for i in range(len(p)):\n",
    "    for j in range(len(p[0])):\n",
    "        p[i][j] = 0 if p[i][j] < 0.5 else 1\n",
    "preds = np.sum(p, axis=0)\n",
    "test_size = len(p[0])\n",
    "preds = [p >= test_size/2 for p in preds]\n",
    "accuracy_score(preds, y_nuts_test)\n"
   ]
  },
  {
   "cell_type": "code",
   "execution_count": 46,
   "metadata": {},
   "outputs": [
    {
     "name": "stdout",
     "output_type": "stream",
     "text": [
      "              precision    recall  f1-score   support\n",
      "\n",
      "         0.0       0.70      0.83      0.76       145\n",
      "         1.0       0.83      0.70      0.76       175\n",
      "\n",
      "    accuracy                           0.76       320\n",
      "   macro avg       0.76      0.77      0.76       320\n",
      "weighted avg       0.77      0.76      0.76       320\n",
      "\n"
     ]
    }
   ],
   "source": [
    "from sklearn.metrics import classification_report\n",
    "\n",
    "print(classification_report(y_nuts_test, preds))"
   ]
  },
  {
   "cell_type": "code",
   "execution_count": 63,
   "metadata": {},
   "outputs": [
    {
     "name": "stdout",
     "output_type": "stream",
     "text": [
      "              precision    recall  f1-score   support\n",
      "\n",
      "         0.0       0.72      0.80      0.76       145\n",
      "         1.0       0.82      0.75      0.78       175\n",
      "\n",
      "    accuracy                           0.77       320\n",
      "   macro avg       0.77      0.77      0.77       320\n",
      "weighted avg       0.78      0.77      0.77       320\n",
      "\n"
     ]
    }
   ],
   "source": [
    "from sklearn.metrics import classification_report\n",
    "\n",
    "print(classification_report(y_nuts_test, preds_1))"
   ]
  },
  {
   "cell_type": "markdown",
   "metadata": {},
   "source": [
    "# ICAR MODEL"
   ]
  },
  {
   "cell_type": "code",
   "execution_count": 65,
   "metadata": {},
   "outputs": [
    {
     "data": {
      "text/plain": [
       "Index(['Unnamed: 0', 'month', 'CensusTract', 'TotalPop', 'Income', 'IncomeErr',\n",
       "       'IncomePerCap', 'IncomePerCapErr', 'Poverty', 'ChildPoverty',\n",
       "       'Professional', 'Service', 'Office', 'Construction', 'Production',\n",
       "       'WorkAtHome', 'MeanCommute', 'Employed', 'PrivateWork', 'PublicWork',\n",
       "       'SelfEmployed', 'FamilyWork', 'Unemployment', 'FELONY', 'MISDEMEANOR',\n",
       "       'VIOLATION', 'restaurants', 'bar', 'park', 'subway_station', 'target'],\n",
       "      dtype='object')"
      ]
     },
     "execution_count": 65,
     "metadata": {},
     "output_type": "execute_result"
    }
   ],
   "source": [
    "df = pd.read_csv(\"data/census_block_loc.csv\")"
   ]
  },
  {
   "cell_type": "code",
   "execution_count": 66,
   "metadata": {},
   "outputs": [],
   "source": [
    "df_flat_agg = deepcopy(data)\n",
    "ct_set = set(list(df_flat_agg['CensusTract'].unique()))\n",
    "df_census_block = pd.read_csv(\"data/census_block_loc.csv\")\n",
    "df_census_block['CensusTract'] = df_census_block.apply(lambda row : int(row['BlockCode'])//10000, axis=1)\n",
    "df_census_block = df_census_block[df_census_block['CensusTract'].isin(ct_set)]\n",
    "df_census_block = df_census_block[['Latitude','Longitude','CensusTract','BlockCode']]\n",
    "df_census_block.to_csv('points.csv',index=False)"
   ]
  },
  {
   "cell_type": "code",
   "execution_count": 67,
   "metadata": {},
   "outputs": [],
   "source": [
    "lats = df_census_block['Latitude']\n",
    "longs = df_census_block['Longitude']"
   ]
  },
  {
   "cell_type": "code",
   "execution_count": 68,
   "metadata": {},
   "outputs": [
    {
     "data": {
      "text/plain": [
       "187"
      ]
     },
     "execution_count": 68,
     "metadata": {},
     "output_type": "execute_result"
    }
   ],
   "source": [
    "unique_lats = sorted(list(set(lats)))\n",
    "len(unique_lats)"
   ]
  },
  {
   "cell_type": "code",
   "execution_count": 69,
   "metadata": {},
   "outputs": [
    {
     "data": {
      "text/plain": [
       "177"
      ]
     },
     "execution_count": 69,
     "metadata": {},
     "output_type": "execute_result"
    }
   ],
   "source": [
    "unique_longs = sorted(list(set(longs)))\n",
    "len(unique_longs)"
   ]
  },
  {
   "cell_type": "code",
   "execution_count": 70,
   "metadata": {},
   "outputs": [],
   "source": [
    "matr = np.zeros((len(unique_lats), len(unique_longs)))\n",
    "pairs = set([(i,j) for (i,j) in zip(lats,longs)])\n",
    "for lat_index, lat in enumerate(unique_lats):\n",
    "    for long_index, lon in enumerate(unique_longs):\n",
    "        if (lat, lon) in pairs:\n",
    "            matr[lat_index][long_index] += 1\n"
   ]
  },
  {
   "cell_type": "code",
   "execution_count": 93,
   "metadata": {},
   "outputs": [],
   "source": [
    "unique_tracts = 2078"
   ]
  },
  {
   "cell_type": "code",
   "execution_count": 94,
   "metadata": {},
   "outputs": [],
   "source": [
    "c_tract_id =  pickle.load(open(\"c_tract_id.pkl\", 'rb'))\n",
    "c_id_tract = pickle.load(open(\"c_id_tract.pkl\", 'rb'))"
   ]
  },
  {
   "cell_type": "code",
   "execution_count": 95,
   "metadata": {},
   "outputs": [],
   "source": [
    "W = pickle.load(open(\"weight_matrix\",\"rb\"))"
   ]
  },
  {
   "cell_type": "code",
   "execution_count": 96,
   "metadata": {},
   "outputs": [
    {
     "data": {
      "text/plain": [
       "(2078, 2078)"
      ]
     },
     "execution_count": 96,
     "metadata": {},
     "output_type": "execute_result"
    }
   ],
   "source": [
    "W.shape"
   ]
  },
  {
   "cell_type": "code",
   "execution_count": 114,
   "metadata": {},
   "outputs": [
    {
     "name": "stdout",
     "output_type": "stream",
     "text": [
      "9601.0 4318084\n"
     ]
    }
   ],
   "source": [
    "W_bakchod = deepcopy(W)\n",
    "W_bakchod = np.tril(W_bakchod)\n",
    "print(np.sum(W_bakchod),2078*2078)\n",
    "\n",
    "for i in range(len(W)):\n",
    "    W[i][i] = 0\n"
   ]
  },
  {
   "cell_type": "code",
   "execution_count": 119,
   "metadata": {},
   "outputs": [],
   "source": [
    "node1 = []\n",
    "node2 = []\n",
    "\n",
    "for i in range(len(W)):\n",
    "    for j in range(i+1,len(W)):\n",
    "        if W[i][j]==1:\n",
    "            node1.append(i)\n",
    "            node2.append(j)"
   ]
  },
  {
   "cell_type": "code",
   "execution_count": 120,
   "metadata": {},
   "outputs": [
    {
     "data": {
      "text/plain": [
       "(7523, 7523)"
      ]
     },
     "execution_count": 120,
     "metadata": {},
     "output_type": "execute_result"
    }
   ],
   "source": [
    "(len(node1), len(node2))"
   ]
  },
  {
   "cell_type": "code",
   "execution_count": 97,
   "metadata": {},
   "outputs": [],
   "source": [
    "def get_data_icar(data, features, target):\n",
    "\n",
    "    required#####\n",
    "    one_table = data[data[target]==1]\n",
    "    zero_table = data[data[target]==0]\n",
    "    one_indices = len(one_table)\n",
    "    zero_indices = len(zero_table)\n",
    "    \n",
    "    if one_indices < zero_indices:\n",
    "        zero_table = zero_table.sample(one_indices)\n",
    "    else:\n",
    "        one_table = one_table.sample(zero_indices)\n",
    "    \n",
    "    table = one_table.append(zero_table, ignore_index=True)\n",
    "    \n",
    "    df_X = table[features]\n",
    "    df_y = table[target]\n",
    "    \n",
    "    \n",
    "        \n",
    "\n",
    "    X_train, X_test, y_train, y_test = train_test_split(df_X, df_y, test_size=0.2)\n",
    "    # Train Data\n",
    "    X_np_train = normalize(np.array(X_train))\n",
    "    y_np_train = np.array(y_train)\n",
    "    \n",
    "\n",
    "        \n",
    "\n",
    "    X_nuts_train = torch.from_numpy(X_np_train).type(torch.float32)\n",
    "    y_nuts_train = torch.from_numpy(y_np_train).type(torch.float32)\n",
    "\n",
    "    censor_ids =  torch.from_numpy(np.array(X_train['CensusIds'])).type(torch.int32)\n",
    "\n",
    "    #Test Data\n",
    "    X_np_test = normalize(np.array(X_test))\n",
    "    y_np_test = np.array(y_test)\n",
    "\n",
    "    X_nuts_test = torch.from_numpy(X_np_test).type(torch.float32)\n",
    "    y_nuts_test = torch.from_numpy(y_np_test).type(torch.float32)\n",
    "\n",
    "    test_censor_ids =  torch.from_numpy(np.array(X_test['CensusIds'])).type(torch.int32)\n",
    "    \n",
    "    return X_nuts_train, y_nuts_train, censor_ids, X_nuts_test, y_nuts_test, test_censor_ids\n"
   ]
  },
  {
   "cell_type": "code",
   "execution_count": 124,
   "metadata": {},
   "outputs": [],
   "source": [
    "W = torch.from_numpy(np.array(W)).type(torch.int32)\n",
    "D = torch.diag(torch.sum(W, axis=1) + 1).type(torch.int32)\n",
    "Q = D - W"
   ]
  },
  {
   "cell_type": "code",
   "execution_count": 126,
   "metadata": {},
   "outputs": [
    {
     "data": {
      "text/plain": [
       "torch.Size([2078, 2078])"
      ]
     },
     "execution_count": 126,
     "metadata": {},
     "output_type": "execute_result"
    }
   ],
   "source": [
    "Q.shape"
   ]
  },
  {
   "cell_type": "code",
   "execution_count": null,
   "metadata": {},
   "outputs": [],
   "source": [
    "def icar_model(data_x, data_y, node1, node2):\n",
    "    beta = []\n",
    "    for i in range(D+1):\n",
    "        beta.append(pyro.sample(\"beta\"+str(i), dist.Normal(0., 0.0001)))\n",
    "    \n",
    "    logit = beta[0]\n",
    "    for i in range(D):\n",
    "        logit = logit + beta[i+1]*data_x[:,i]\n",
    "    \n",
    "    #unstructured random noise\n",
    "    sd_u = pyro.sample(\"sd_u\",dist.Gamma(0.01,0.01))\n",
    "    sigma2_ui = 1/(sd_u**2) \n",
    "    u_i = pyro.sample(\"u_i\",dist.Normal(0, sigma2_ui))\n",
    "    \n",
    "    #structured random noise\n",
    "    sd_s = pyro.sample(\"sd_s\",dist.Gamma(1.,1.))\n",
    "    sigma2_si = 1/(sd_s**2) \n",
    "    \n",
    "    phi = []\n",
    "    for i in range(2078):\n",
    "        phi.append(pyro.sample(\"phi\"+str(i), dist.Normal(0.,1.)))\n",
    "    phi.append(-torch.sum(phi))\n",
    "\n",
    "    phi_joint = torch.exp(-0.5 * torch.dot(phi[node1] - phi[node2])) \n",
    "    \n",
    "    logit += phi_joint*sigma2_si\n",
    "        \n",
    "        \n",
    "    p = 1. / (1 + torch.exp(-logit)) \n",
    "\n",
    "\n",
    "    with pyro.plate(\"data\", len(data_y)):\n",
    "        y = pyro.sample(\"obs\",dist.Bernoulli(p), obs=data_y)\n",
    "        \n",
    "def icar_model(data_x, data_y, node1, node2):\n",
    "    beta = []\n",
    "    for i in range(D+1):\n",
    "        beta.append(pyro.sample(\"beta\"+str(i), dist.Normal(0., 0.0001)))\n",
    "    \n",
    "    logit = beta[0]\n",
    "    for i in range(D):\n",
    "        logit = logit + beta[i+1]*data_x[:,i]\n",
    "    \n",
    "    #unstructured random noise\n",
    "    sd_u = pyro.sample(\"sd_u\",dist.Gamma(0.01,0.01))\n",
    "    sigma2_ui = 1/(sd_u**2) \n",
    "    u_i = pyro.sample(\"u_i\",dist.Normal(0, sigma2_ui))\n",
    "    \n",
    "    #structured random noise\n",
    "    sd_s = pyro.sample(\"sd_s\",dist.Gamma(1.,1.))\n",
    "    sigma2_si = 1/(sd_s**2) \n",
    "    \n",
    "    phi = []\n",
    "    for i in range(2078):\n",
    "        phi.append(pyro.sample(\"phi\"+str(i), dist.Normal(0.,1.)))\n",
    "    phi.append(-torch.sum(phi))\n",
    "\n",
    "    phi_joint = torch.exp(-0.5 * torch.dot(phi[node1] - phi[node2])) \n",
    "    \n",
    "    logit += phi_joint*sigma2_si\n",
    "        \n",
    "        \n",
    "    p = 1. / (1 + torch.exp(-logit)) \n",
    "\n",
    "\n",
    "    with pyro.plate(\"data\", len(data_y)):\n",
    "        y = pyro.sample(\"obs\",dist.Bernoulli(p), obs=data_y)"
   ]
  },
  {
   "cell_type": "code",
   "execution_count": 132,
   "metadata": {},
   "outputs": [
    {
     "data": {
      "text/plain": [
       "torch.Size([5])"
      ]
     },
     "execution_count": 132,
     "metadata": {},
     "output_type": "execute_result"
    }
   ],
   "source": []
  },
  {
   "cell_type": "code",
   "execution_count": null,
   "metadata": {},
   "outputs": [],
   "source": []
  }
 ],
 "metadata": {
  "kernelspec": {
   "display_name": "Python 3",
   "language": "python",
   "name": "python3"
  },
  "language_info": {
   "codemirror_mode": {
    "name": "ipython",
    "version": 3
   },
   "file_extension": ".py",
   "mimetype": "text/x-python",
   "name": "python",
   "nbconvert_exporter": "python",
   "pygments_lexer": "ipython3",
   "version": "3.7.4"
  }
 },
 "nbformat": 4,
 "nbformat_minor": 4
}
